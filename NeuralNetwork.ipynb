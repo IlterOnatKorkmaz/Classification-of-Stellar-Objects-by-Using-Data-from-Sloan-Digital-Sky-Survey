{
 "cells": [
  {
   "cell_type": "code",
   "execution_count": 1,
   "metadata": {},
   "outputs": [],
   "source": [
    "import numpy as np\n",
    "from tqdm import tqdm\n",
    "from ipynb.fs.full.Preprocessing import preprocess"
   ]
  },
  {
   "cell_type": "markdown",
   "metadata": {},
   "source": [
    "# Importing Data"
   ]
  },
  {
   "cell_type": "code",
   "execution_count": 2,
   "metadata": {},
   "outputs": [],
   "source": [
    "train_x, train_y, test_x, test_y = preprocess(100000)"
   ]
  },
  {
   "cell_type": "code",
   "execution_count": 3,
   "metadata": {},
   "outputs": [],
   "source": [
    "from sklearn.preprocessing import OneHotEncoder\n",
    "enc = OneHotEncoder().fit(train_y.reshape(-1, 1))\n",
    "train_y=enc.transform(train_y.reshape(-1,1)).toarray()\n",
    "test_y=enc.transform(test_y.reshape(-1,1)).toarray()"
   ]
  },
  {
   "cell_type": "markdown",
   "metadata": {},
   "source": [
    "# The code of the Neural Network"
   ]
  },
  {
   "cell_type": "code",
   "execution_count": 4,
   "metadata": {},
   "outputs": [],
   "source": [
    "from IPython.display import clear_output\n",
    "def loading_arrow(total,progress,n=29,err=0,epoch=0):\n",
    "    bound = np.arange(total/n,total,total/n)\n",
    "    temp = sum(bound<progress)\n",
    "    clear_output(wait=True)\n",
    "    print(\"Epoch:\" + str(epoch)+\"|\"+(temp+1)*\"=\"+\">\"+(n-temp-1)*\" \"+\"|\" + \"Loss:\" + str(err))\n",
    "class Layer:\n",
    "    def __init__(self, activation_func, size, weights=None,local_fields = None,after_activations=None,bias = 0 ):\n",
    "        self.activation_func = activation_func #softmax, relu\n",
    "        self.size =size #number of neurons  \n",
    "        self.weights = weights\n",
    "        self.local_fields=local_fields\n",
    "class Sequential_Model: \n",
    "    def __init__(self, input_size, learning_rate,batch_size=12,layer_list = list(),weight_matrix = None,loss_type = \"cross_categorical_entropy\"):\n",
    "        self.indicator = 0\n",
    "        self.input_size = input_size\n",
    "        self.layer_list = layer_list #input node, hidden node or output node   \n",
    "        self.learning_rate = learning_rate\n",
    "        self.weight_matrix = weight_matrix\n",
    "        #self.epoch=100\n",
    "        self.batch_size = batch_size\n",
    "        self.loss_type = loss_type\n",
    "        self.local_field_list = list() \n",
    "        self.activation_list = list()\n",
    "        self.error_list=list()\n",
    "        self.val_error_list = list()\n",
    "        self.best_weights = list()\n",
    "        self.best_val_loss = np.inf\n",
    "\n",
    "    def activation(self,induced_local_field,actv_func):\n",
    "        if actv_func == \"relu\":\n",
    "            return max(induced_local_field,0)\n",
    "        elif actv_func == \"sigmoid\":# or actv_func == \"softmax\":\n",
    "            return 1/(1+np.exp(-induced_local_field))\n",
    "        elif actv_func == \"linear\":\n",
    "            return induced_local_field\n",
    "        elif actv_func == \"softmax\":\n",
    "            return np.exp(induced_local_field)\n",
    "        else:\n",
    "            raise ValueError(\"The activation function was not recognized.\")\n",
    "    def add(self,layer):\n",
    "        self.layer_list.append(layer)\n",
    "    def compile(self):\n",
    "        weight_matrices = list()\n",
    "        for ind in range(len(self.layer_list)-1):# Initializing the weight matrices\n",
    "            weight_matrices.append(np.matrix(\n",
    "                np.random.normal(loc=0.0,\n",
    "                scale=np.sqrt(2/self.layer_list[ind].size),\n",
    "                size=(self.layer_list[ind+1].size,\n",
    "                self.layer_list[ind].size+1)))) #+1 is for bias. so, the rightmost column is the bias weight column.\n",
    "        \n",
    "        self.weight_matrix=weight_matrices\n",
    "    def predict(self,model_input):\n",
    "        actv = np.vectorize(self.activation,otypes=[np.float32])\n",
    "        estimation = np.transpose(np.matrix(model_input))#,shape=(np.size(model_input),1))\n",
    "        for ind,matrix in enumerate(self.weight_matrix):\n",
    "            estimation=matrix*(np.concatenate((estimation,np.ones((1,1))),axis=0))\n",
    "            estimation = actv(estimation,self.layer_list[ind+1].activation_func)\n",
    "        if self.layer_list[-1].activation_func==\"softmax\":\n",
    "            return estimation/sum(estimation)\n",
    "    def feed_forward_train(self,model_input):\n",
    "        self.local_field_list = list() #resetting local field list\n",
    "        self.activation_list = list()\n",
    "        actv = np.vectorize(self.activation,otypes=[np.float32])\n",
    "        estimation = np.transpose(np.matrix(model_input))#,shape=(np.size(model_input),1))\n",
    "        self.activation_list.append(estimation)\n",
    "        self.local_field_list.append(estimation)\n",
    "        for ind,matrix in enumerate(self.weight_matrix):\n",
    "            estimation=matrix*(np.concatenate((estimation,np.ones((1,1))),axis=0))\n",
    "            self.local_field_list.append(estimation)\n",
    "            estimation = actv(estimation,self.layer_list[ind+1].activation_func)\n",
    "            self.activation_list.append(estimation)\n",
    "        \n",
    "        if self.layer_list[-1].activation_func==\"softmax\":\n",
    "            if not np.isnan(estimation.any()):\n",
    "                return estimation/(sum(estimation)+1e-5)\n",
    "            else:\n",
    "                self.indicator = 1\n",
    "                return estimation/(sum(estimation)+1e-5)\n",
    "        \n",
    "\n",
    "        return estimation\n",
    "    def loss_calc(self,est,truth):\n",
    "        \n",
    "        if self.loss_type==\"cross_categorical_entropy\":\n",
    "            return np.sum(np.array(truth * -np.log(est+1e-15)), axis=-1, keepdims=False)\n",
    "        elif self.loss_type==\"mean_squared_error\":\n",
    "            return (np.norm(est-truth)**2)/len(truth)\n",
    "        else:\n",
    "            raise ValueError(\"Loss type not recognized.\")\n",
    "    def gradient(self,input,activation_func):\n",
    "        if activation_func == \"relu\":\n",
    "            return 1*(input>=0)\n",
    "        elif activation_func == \"linear\":\n",
    "            return 1\n",
    "        return 0\n",
    "    def train(self,X,y,epoch,learning_rate,val_size):\n",
    "        \n",
    "        self.learning_rate= learning_rate\n",
    "        r,c = np.shape(X)\n",
    "        X,val_X = X[:(r-val_size)],X[(r-val_size):]\n",
    "        y,val_y = y[:(r-val_size)],y[(r-val_size):]\n",
    "        for epoc in range(epoch):\n",
    "            try:\n",
    "                self.error_list.append(error/self.batch_size)\n",
    "                self.val_error_list.append(val_error/(val_size))\n",
    "            except:\n",
    "                pass\n",
    "            tqdm_obj = tqdm(range(len(X)//self.batch_size))\n",
    "            for batc in tqdm_obj:\n",
    "                indices = np.random.choice(np.shape(X)[0],self.batch_size,replace=False)\n",
    "                mini_x,mini_y = X[indices,:], y[indices,:]\n",
    "                error=0\n",
    "                val_error = 0\n",
    "                placeholder = list()\n",
    "                for ind,entry in enumerate(mini_x):\n",
    "                    model_out = self.feed_forward_train(entry)\n",
    "                    error += self.loss_calc(model_out,mini_y[ind])\n",
    "                    vec_loss = model_out-np.matrix(mini_y[ind]).transpose()\n",
    "                    placeholder.append(self.backpropagate(error,vec_loss))\n",
    "\n",
    "                for ind,entry in enumerate(val_X):\n",
    "                    model_val = self.predict(entry)\n",
    "                    val_error += self.loss_calc(model_val,val_y[ind])\n",
    "                if val_error<self.best_val_loss:\n",
    "                    self.best_val_loss = val_error\n",
    "                    self.best_weights = self.weight_matrix\n",
    "\n",
    "\n",
    "                str_epoc=str(epoc)\n",
    "                str_error = '{:.2f}'.format(float(error/self.batch_size))\n",
    "                str_val_error = '{:.2f}'.format(float(val_error/(val_size)))\n",
    "\n",
    "                tqdm_obj.set_description(\"| Epoch:\"+str_epoc+\" | Loss:\" + str_error + \" | Validation Loss:\"+ str_val_error +\" |\")\n",
    "                    \n",
    "                for ind,items in enumerate(zip(*placeholder)):\n",
    "                    self.weight_matrix[ind] = np.sum(items, axis=0)/self.batch_size\n",
    "                placeholder = list()\n",
    "        self.weight_matrix = self.best_weights\n",
    "            \n",
    "    def backpropagate(self,error,vec_loss):\n",
    "        list_of_deltas = [vec_loss]\n",
    "        for ind in reversed(range(len(self.layer_list)-1)):\n",
    "            A = self.weight_matrix[ind][:,:-1].transpose()*list_of_deltas[-1]\n",
    "            B = self.gradient(self.local_field_list[ind],self.layer_list[ind].activation_func)\n",
    "            C = np.multiply(A,B)\n",
    "            list_of_deltas.append(C)\n",
    "        list_of_deltas.reverse()\n",
    "        ret_wm = self.weight_matrix\n",
    "        for ind in range(len(self.weight_matrix)):\n",
    "            delta = np.matrix(list_of_deltas[ind+1])\n",
    "            actv = np.matrix(self.activation_list[ind])\n",
    "            update = self.learning_rate*(delta*actv.transpose())\n",
    "            ret_wm[ind][:,:-1] -= update.astype('float32')\n",
    "            param = np.asarray(self.learning_rate*delta)\n",
    "            try:\n",
    "                ret_wm[ind][:,-1] = ret_wm[ind][:,-1]-param #np.squeeze(np.asarray(param))\n",
    "            except:\n",
    "                ret_wm[ind][:,-1] = ret_wm[ind][:,-1]-np.squeeze(param)\n",
    "        list_of_deltas = list()\n",
    "        self.local_field_list = list()\n",
    "        self.activation_list = list()\n",
    "        return ret_wm   \n"
   ]
  },
  {
   "cell_type": "code",
   "execution_count": 5,
   "metadata": {},
   "outputs": [],
   "source": [
    "model = Sequential_Model(input_size=12,loss_type = \"cross_categorical_entropy\",learning_rate=0.001,batch_size=100)\n",
    "model.add(Layer(activation_func=\"linear\", size=12))\n",
    "model.add(Layer(activation_func=\"relu\",size=8))\n",
    "model.add(Layer(activation_func=\"relu\",size=5))\n",
    "model.add(Layer(activation_func=\"softmax\",size=3))\n",
    "model.compile()"
   ]
  },
  {
   "cell_type": "code",
   "execution_count": 6,
   "metadata": {},
   "outputs": [
    {
     "name": "stderr",
     "output_type": "stream",
     "text": [
      "| Epoch:0| Loss:0.17| Validation Loss:0.23 |: 100%|██████████| 794/794 [01:12<00:00, 10.99it/s]\n",
      "| Epoch:1| Loss:0.09| Validation Loss:0.18 |: 100%|██████████| 794/794 [01:18<00:00, 10.07it/s]\n",
      "| Epoch:2| Loss:0.24| Validation Loss:0.15 |: 100%|██████████| 794/794 [01:23<00:00,  9.51it/s]\n",
      "| Epoch:3| Loss:0.13| Validation Loss:0.14 |: 100%|██████████| 794/794 [01:20<00:00,  9.91it/s]\n",
      "| Epoch:4| Loss:0.19| Validation Loss:0.21 |: 100%|██████████| 794/794 [01:21<00:00,  9.71it/s]\n",
      "| Epoch:5| Loss:0.11| Validation Loss:0.14 |:  65%|██████▍   | 516/794 [00:54<00:37,  7.51it/s]"
     ]
    }
   ],
   "source": [
    "model.train(train_x,train_y,epoch=50,learning_rate=0.001,val_size=200)"
   ]
  },
  {
   "cell_type": "code",
   "execution_count": 7,
   "metadata": {},
   "outputs": [
    {
     "data": {
      "text/plain": [
       "[<matplotlib.lines.Line2D at 0x2175a93aa00>]"
      ]
     },
     "execution_count": 7,
     "metadata": {},
     "output_type": "execute_result"
    },
    {
     "data": {
      "image/png": "[encoded data removed]",
      "text/plain": [
       "<Figure size 864x576 with 1 Axes>"
      ]
     },
     "metadata": {
      "needs_background": "light"
     },
     "output_type": "display_data"
    }
   ],
   "source": [
    "import matplotlib.pyplot as plt\n",
    "plt.figure(figsize=(12,8))\n",
    "plt.title(\"Categorical Crossentropy Loss vs Epoch\")\n",
    "plt.xlabel(\"Epoch\")\n",
    "plt.ylabel(\"Categorical Crossentropy Loss\")\n",
    "plt.plot(model.error_list)"
   ]
  },
  {
   "cell_type": "code",
   "execution_count": 8,
   "metadata": {},
   "outputs": [
    {
     "name": "stdout",
     "output_type": "stream",
     "text": [
      "95.49\n"
     ]
    }
   ],
   "source": [
    "counter = 0\n",
    "for ind,row in enumerate(test_x):\n",
    "    pos = np.argmax(model.predict(row),axis=0)\n",
    "    if np.argmax(test_y,axis=1).tolist()[ind]==np.array(pos).squeeze():\n",
    "        counter +=1\n",
    "\n",
    "print(counter*100/len(test_y))"
   ]
  },
  {
   "cell_type": "markdown",
   "metadata": {},
   "source": [
    "# Saving the model"
   ]
  },
  {
   "cell_type": "code",
   "execution_count": 10,
   "metadata": {},
   "outputs": [],
   "source": [
    "\"\"\"\n",
    "import pickle\n",
    "\n",
    "def save_object(obj, filename):\n",
    "    with open(filename, 'wb') as outp:\n",
    "        pickle.dump(obj, outp, pickle.HIGHEST_PROTOCOL)\n",
    "\n",
    "\n",
    "save_object(model, 'nn_model.pkl')\n",
    "\"\"\""
   ]
  },
  {
   "cell_type": "code",
   "execution_count": 20,
   "metadata": {},
   "outputs": [],
   "source": [
    "\"\"\"\n",
    "with open('nn_model.pkl', 'rb') as pickle_file:\n",
    "    model2 = pickle.load(pickle_file)\n",
    "\"\"\""
   ]
  },
  {
   "cell_type": "markdown",
   "metadata": {},
   "source": [
    "# Performance Analysis"
   ]
  },
  {
   "cell_type": "code",
   "execution_count": 7,
   "metadata": {},
   "outputs": [
    {
     "name": "stdout",
     "output_type": "stream",
     "text": [
      "Timer unit: 1e-07 s\n",
      "\n",
      "Total time: 2.12534 s\n",
      "File: C:\\Users\\Onat\\AppData\\Local\\Temp/ipykernel_34296/876602860.py\n",
      "Function: feed_forward_train at line 50\n",
      "\n",
      "Line #      Hits         Time  Per Hit   % Time  Line Contents\n",
      "==============================================================\n",
      "    50                                               def feed_forward_train(self,model_input):\n",
      "    51      5000     126109.0     25.2      0.6          self.local_field_list = list() #resetting local field list\n",
      "    52      5000      85237.0     17.0      0.4          self.activation_list = list()\n",
      "    53      5000     598251.0    119.7      2.8          actv = np.vectorize(self.activation)\n",
      "    54      5000    1446106.0    289.2      6.8          estimation = np.transpose(np.matrix(model_input))#,shape=(np.size(model_input),1))\n",
      "    55      5000      53014.0     10.6      0.2          self.activation_list.append(estimation)\n",
      "    56      5000      31365.0      6.3      0.1          self.local_field_list.append(estimation)\n",
      "    57     20000     157857.0      7.9      0.7          for ind,matrix in enumerate(self.weight_matrix):\n",
      "    58     15000    5555190.0    370.3     26.1              estimation=matrix*(np.concatenate((estimation,np.ones((1,1))),axis=0))\n",
      "    59     15000     159239.0     10.6      0.7              self.local_field_list.append(estimation)\n",
      "    60     15000    9741222.0    649.4     45.8              estimation = actv(estimation,self.layer_list[ind+1].activation_func)\n",
      "    61     15000     174123.0     11.6      0.8              self.activation_list.append(estimation)\n",
      "    62      5000      42145.0      8.4      0.2          if self.layer_list[-1].activation_func==\"softmax\":\n",
      "    63      5000    3083494.0    616.7     14.5              return estimation/sum(estimation)\n",
      "    64                                                   \n",
      "    65                                           \n",
      "    66                                                   return estimation\n",
      "\n"
     ]
    }
   ],
   "source": [
    "from line_profiler import LineProfiler\n",
    "lp = LineProfiler()\n",
    "lp.enable_by_count()\n",
    "lp_wrapper = lp(Sequential_Model.feed_forward_train)\n",
    "model.train(port_x,port_y,epoch=10)\n",
    "lp.print_stats()"
   ]
  }
 ],
 "metadata": {
  "interpreter": {
   "hash": "51db195162f82df05c60f2be968350518dfdf1445cc2d24d16ac47e24cb84d87"
  },
  "kernelspec": {
   "display_name": "Python 3.9.11 64-bit",
   "language": "python",
   "name": "python3"
  },
  "language_info": {
   "codemirror_mode": {
    "name": "ipython",
    "version": 3
   },
   "file_extension": ".py",
   "mimetype": "text/x-python",
   "name": "python",
   "nbconvert_exporter": "python",
   "pygments_lexer": "ipython3",
   "version": "3.9.11"
  },
  "orig_nbformat": 4
 },
 "nbformat": 4,
 "nbformat_minor": 2
}
