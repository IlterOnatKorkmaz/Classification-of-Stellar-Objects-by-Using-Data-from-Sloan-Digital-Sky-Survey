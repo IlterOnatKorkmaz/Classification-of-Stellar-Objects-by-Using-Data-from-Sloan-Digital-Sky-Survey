{
 "cells": [
  {
   "cell_type": "code",
   "execution_count": 1,
   "metadata": {},
   "outputs": [],
   "source": [
    "import numpy as np\n",
    "from tqdm import tqdm\n",
    "from ipynb.fs.full.Preprocessing import preprocess"
   ]
  },
  {
   "cell_type": "markdown",
   "metadata": {},
   "source": [
    "# Importing Data"
   ]
  },
  {
   "cell_type": "code",
   "execution_count": 2,
   "metadata": {},
   "outputs": [],
   "source": [
    "train_x, train_y, test_x, test_y = preprocess(100000)"
   ]
  },
  {
   "cell_type": "code",
   "execution_count": 3,
   "metadata": {},
   "outputs": [],
   "source": [
    "def one_hot(array, num_classes):\n",
    "    eye = np.eye(num_classes)\n",
    "    return np.squeeze(eye[array.astype(np.int64)])\n",
    "test_y=one_hot(array = test_y,num_classes=3)\n",
    "train_y=one_hot(array = train_y,num_classes=3)"
   ]
  },
  {
   "cell_type": "markdown",
   "metadata": {},
   "source": [
    "# The code of the Neural Network"
   ]
  },
  {
   "cell_type": "code",
   "execution_count": 4,
   "metadata": {},
   "outputs": [],
   "source": [
    "class Layer:\n",
    "    def __init__(self, activation_func, size, weights=None,local_fields = None,after_activations=None,bias = 0 ):\n",
    "        self.activation_func = activation_func #softmax, relu\n",
    "        self.size =size #number of neurons  \n",
    "        self.weights = weights\n",
    "        self.local_fields=local_fields\n",
    "class Sequential_Model: \n",
    "    def __init__(self, input_size, learning_rate,batch_size=12,layer_list = list(),weight_matrix = None,loss_type = \"cross_categorical_entropy\"):\n",
    "        self.indicator = 0\n",
    "        self.input_size = input_size\n",
    "        self.layer_list = layer_list #input node, hidden node or output node   \n",
    "        self.learning_rate = learning_rate\n",
    "        self.weight_matrix = weight_matrix\n",
    "        #self.epoch=100\n",
    "        self.batch_size = batch_size\n",
    "        self.loss_type = loss_type\n",
    "        self.local_field_list = list() \n",
    "        self.activation_list = list()\n",
    "        self.error_list=list()\n",
    "        self.val_error_list = list()\n",
    "        self.best_weights = list()\n",
    "        self.best_val_loss = np.inf\n",
    "\n",
    "    def activation(self,induced_local_field,actv_func):\n",
    "        if actv_func == \"relu\":\n",
    "            return max(induced_local_field,0)\n",
    "        elif actv_func == \"sigmoid\":# or actv_func == \"softmax\":\n",
    "            return 1/(1+np.exp(-induced_local_field))\n",
    "        elif actv_func == \"linear\":\n",
    "            return induced_local_field\n",
    "        elif actv_func == \"softmax\":\n",
    "            return np.exp(induced_local_field)\n",
    "        else:\n",
    "            raise ValueError(\"The activation function was not recognized.\")\n",
    "    def add(self,layer):\n",
    "        self.layer_list.append(layer)\n",
    "    def compile(self):\n",
    "        weight_matrices = list()\n",
    "        for ind in range(len(self.layer_list)-1):# Initializing the weight matrices\n",
    "            weight_matrices.append(np.matrix(\n",
    "                np.random.normal(loc=0.0,\n",
    "                scale=np.sqrt(2/self.layer_list[ind].size),\n",
    "                size=(self.layer_list[ind+1].size,\n",
    "                self.layer_list[ind].size+1)))) #+1 is for bias. so, the rightmost column is the bias weight column.\n",
    "        \n",
    "        self.weight_matrix=weight_matrices\n",
    "    def predict(self,model_input):\n",
    "        actv = np.vectorize(self.activation,otypes=[np.float32])\n",
    "        estimation = np.transpose(np.matrix(model_input))#,shape=(np.size(model_input),1))\n",
    "        r,c = np.shape(estimation)\n",
    "        for ind,matrix in enumerate(self.weight_matrix):\n",
    "            estimation=matrix*(np.concatenate((estimation,np.ones((1,c))),axis=0))\n",
    "            estimation = actv(estimation,self.layer_list[ind+1].activation_func)\n",
    "        if self.layer_list[-1].activation_func==\"softmax\":\n",
    "            return estimation/sum(estimation)\n",
    "    def feed_forward_train(self,model_input):\n",
    "        self.local_field_list = list() #resetting local field list\n",
    "        self.activation_list = list()\n",
    "        actv = np.vectorize(self.activation,otypes=[np.float32])\n",
    "        estimation = np.transpose(np.matrix(model_input))#,shape=(np.size(model_input),1))\n",
    "        self.activation_list.append(estimation)\n",
    "        self.local_field_list.append(estimation)\n",
    "        for ind,matrix in enumerate(self.weight_matrix):\n",
    "            estimation=matrix*(np.concatenate((estimation,np.ones((1,1))),axis=0))\n",
    "            self.local_field_list.append(estimation)\n",
    "            estimation = actv(estimation,self.layer_list[ind+1].activation_func)\n",
    "            self.activation_list.append(estimation)\n",
    "        \n",
    "        if self.layer_list[-1].activation_func==\"softmax\":\n",
    "            if not np.isnan(estimation.any()):\n",
    "                return estimation/(sum(estimation)+1e-5)\n",
    "            else:\n",
    "                self.indicator = 1\n",
    "                return estimation/(sum(estimation)+1e-5)\n",
    "        \n",
    "\n",
    "        return estimation\n",
    "    def loss_calc(self,est,truth):\n",
    "        \n",
    "        if self.loss_type==\"cross_categorical_entropy\":\n",
    "            return np.sum(np.array(truth * -np.log(est+1e-15)), axis=-1, keepdims=False)\n",
    "        elif self.loss_type==\"mean_squared_error\":\n",
    "            return (np.norm(est-truth)**2)/len(truth)\n",
    "        else:\n",
    "            raise ValueError(\"Loss type not recognized.\")\n",
    "    def gradient(self,input,activation_func):\n",
    "        if activation_func == \"relu\":\n",
    "            return 1*(input>=0)\n",
    "        elif activation_func == \"linear\":\n",
    "            return 1\n",
    "        return 0\n",
    "    def train(self,X,y,epoch,learning_rate,val_size):\n",
    "        \n",
    "        self.learning_rate= learning_rate\n",
    "        r,c = np.shape(X)\n",
    "        X,val_X = X[:(r-val_size)],X[(r-val_size):]\n",
    "        y,val_y = y[:(r-val_size)],y[(r-val_size):]\n",
    "        for epoc in range(epoch):\n",
    "            #try:\n",
    "            #    self.error_list.append(error/self.batch_size)\n",
    "            #    self.val_error_list.append(val_error/(val_size))\n",
    "            #except:\n",
    "                #pass\n",
    "            tqdm_obj = tqdm(range(len(X)//self.batch_size))\n",
    "            for batc in tqdm_obj:\n",
    "                indices = np.random.choice(np.shape(X)[0],self.batch_size,replace=False)\n",
    "                mini_x,mini_y = X[indices,:], y[indices,:]\n",
    "                error=0\n",
    "                val_error = 0\n",
    "                placeholder = list()\n",
    "                for ind,entry in enumerate(mini_x):\n",
    "                    model_out = self.feed_forward_train(entry)\n",
    "                    error += self.loss_calc(model_out,mini_y[ind])\n",
    "                    vec_loss = model_out-np.matrix(mini_y[ind]).transpose()\n",
    "                    placeholder.append(self.backpropagate(error,vec_loss))\n",
    "                    try:\n",
    "                        self.error_list.append(error/self.batch_size)\n",
    "                    except:\n",
    "                        pass\n",
    "\n",
    "                \n",
    "                model_val = self.predict(val_X)\n",
    "                    \n",
    "                for i in range(val_size):\n",
    "                    val_error += self.loss_calc(model_val[:,i],val_y[i])\n",
    "                try:\n",
    "                    self.val_error_list.append(val_error/(val_size))\n",
    "                except:\n",
    "                    pass\n",
    "                if val_error<self.best_val_loss:\n",
    "                    self.best_val_loss = val_error\n",
    "                    self.best_weights = self.weight_matrix\n",
    "\n",
    "\n",
    "                str_epoc=str(epoc)\n",
    "                str_error = '{:.2f}'.format(float(error/self.batch_size))\n",
    "                str_val_error = '{:.2f}'.format(float(val_error/(val_size)))\n",
    "\n",
    "                tqdm_obj.set_description(\"| Epoch:\"+str_epoc+\" | Loss:\" + str_error + \" | Validation Loss:\"+ str_val_error +\" |\")\n",
    "                    \n",
    "                for ind,items in enumerate(zip(*placeholder)):\n",
    "                    self.weight_matrix[ind] = np.sum(items, axis=0)/self.batch_size\n",
    "                placeholder = list()\n",
    "        self.weight_matrix = self.best_weights\n",
    "            \n",
    "    def backpropagate(self,error,vec_loss):\n",
    "        list_of_deltas = [vec_loss]\n",
    "        for ind in reversed(range(len(self.layer_list)-1)):\n",
    "            A = self.weight_matrix[ind][:,:-1].transpose()*list_of_deltas[-1]\n",
    "            B = self.gradient(self.local_field_list[ind],self.layer_list[ind].activation_func)\n",
    "            C = np.multiply(A,B)\n",
    "            list_of_deltas.append(C)\n",
    "        list_of_deltas.reverse()\n",
    "        ret_wm = self.weight_matrix\n",
    "        for ind in range(len(self.weight_matrix)):\n",
    "            delta = np.matrix(list_of_deltas[ind+1])\n",
    "            actv = np.matrix(self.activation_list[ind])\n",
    "            update = self.learning_rate*(delta*actv.transpose())\n",
    "            ret_wm[ind][:,:-1] -= update.astype('float32')\n",
    "            param = np.asarray(self.learning_rate*delta)\n",
    "            try:\n",
    "                ret_wm[ind][:,-1] = ret_wm[ind][:,-1]-param #np.squeeze(np.asarray(param))\n",
    "            except:\n",
    "                ret_wm[ind][:,-1] = ret_wm[ind][:,-1]-np.squeeze(param)\n",
    "        list_of_deltas = list()\n",
    "        self.local_field_list = list()\n",
    "        self.activation_list = list()\n",
    "        return ret_wm   \n"
   ]
  },
  {
   "cell_type": "code",
   "execution_count": 5,
   "metadata": {},
   "outputs": [],
   "source": [
    "bacth_size = 100\n",
    "model = Sequential_Model(input_size=12,loss_type = \"cross_categorical_entropy\",learning_rate=0.001,batch_size=bacth_size)\n",
    "model.add(Layer(activation_func=\"linear\", size=12))\n",
    "model.add(Layer(activation_func=\"relu\",size=64))\n",
    "model.add(Layer(activation_func=\"relu\",size=32))\n",
    "model.add(Layer(activation_func=\"relu\",size=16))\n",
    "model.add(Layer(activation_func=\"softmax\",size=3))\n",
    "model.compile()"
   ]
  },
  {
   "cell_type": "code",
   "execution_count": 6,
   "metadata": {},
   "outputs": [
    {
     "name": "stderr",
     "output_type": "stream",
     "text": [
      "| Epoch:0 | Loss:0.18 | Validation Loss:0.16 |: 100%|██████████| 746/746 [07:14<00:00,  1.72it/s]\n",
      "| Epoch:1 | Loss:0.28 | Validation Loss:0.17 |: 100%|██████████| 746/746 [06:51<00:00,  1.81it/s]\n",
      "| Epoch:2 | Loss:0.08 | Validation Loss:0.12 |: 100%|██████████| 746/746 [06:48<00:00,  1.82it/s]\n",
      "| Epoch:3 | Loss:0.07 | Validation Loss:0.12 |: 100%|██████████| 746/746 [06:42<00:00,  1.86it/s]\n",
      "| Epoch:4 | Loss:0.20 | Validation Loss:0.13 |: 100%|██████████| 746/746 [06:23<00:00,  1.94it/s]\n"
     ]
    }
   ],
   "source": [
    "model.train(train_x,train_y,epoch=5,learning_rate=0.001,val_size=5000)"
   ]
  },
  {
   "cell_type": "code",
   "execution_count": 19,
   "metadata": {},
   "outputs": [
    {
     "data": {
      "text/plain": [
       "<matplotlib.legend.Legend at 0x271d32fad00>"
      ]
     },
     "execution_count": 19,
     "metadata": {},
     "output_type": "execute_result"
    },
    {
     "data": {
      "image/png": "[encoded data removed]",
      "text/plain": [
       "<Figure size 432x288 with 1 Axes>"
      ]
     },
     "metadata": {
      "needs_background": "light"
     },
     "output_type": "display_data"
    }
   ],
   "source": [
    "import matplotlib.pyplot as plt\n",
    "fig, ax = plt.subplots()\n",
    "plt.title(\"Categorical Crossentropy Loss vs Steps\")\n",
    "plt.xlabel(\"Gradient Descent Update Count\")\n",
    "plt.ylabel(\"Categorical Crossentropy Loss\")\n",
    "plt.plot(range(len(model.error_list)),model.error_list)\n",
    "plt.plot(np.arange(len(model.val_error_list))*bacth_size,model.val_error_list)\n",
    "plt.legend([\"Training Cross-Entropy Loss\",\"Validation Cross-Entropy Loss\"])\n"
   ]
  },
  {
   "cell_type": "code",
   "execution_count": 7,
   "metadata": {},
   "outputs": [
    {
     "data": {
      "text/plain": [
       "0.9554"
      ]
     },
     "execution_count": 7,
     "metadata": {},
     "output_type": "execute_result"
    }
   ],
   "source": [
    "truth = np.argmax(test_y,axis=1)\n",
    "pred = np.argmax(model.predict(test_x),axis=0)\n",
    "pred = np.array(pred).squeeze()\n",
    "accuracy = sum(pred ==truth)/len(truth)\n",
    "accuracy\n"
   ]
  },
  {
   "cell_type": "code",
   "execution_count": null,
   "metadata": {},
   "outputs": [],
   "source": []
  },
  {
   "cell_type": "markdown",
   "metadata": {},
   "source": [
    "# CM"
   ]
  },
  {
   "cell_type": "code",
   "execution_count": 21,
   "metadata": {},
   "outputs": [
    {
     "data": {
      "image/png": "[encoded data removed]",
      "text/plain": [
       "<Figure size 432x288 with 2 Axes>"
      ]
     },
     "metadata": {
      "needs_background": "light"
     },
     "output_type": "display_data"
    }
   ],
   "source": [
    "import seaborn as sn\n",
    "def confusion_matrice(pred,truth,num_of_class):\n",
    "    confusion_mtrx=np.zeros((num_of_class,num_of_class),dtype=np.int32)\n",
    "    for ind,prediction in enumerate(pred):\n",
    "        confusion_mtrx[truth[ind]][prediction]+=1\n",
    "    return confusion_mtrx\n",
    "def accuracy(pred,truth):\n",
    "    count = 0\n",
    "    for ind,prediction in enumerate(pred):\n",
    "        if truth[ind]==prediction:\n",
    "            count+=1\n",
    "    accuracy = (count/len(pred))*100\n",
    "    return accuracy\n",
    "s = sn.heatmap(confusion_matrice(pred, truth,3), annot=True, fmt='g')\n",
    "s.set(xlabel='Predicted Labels', ylabel='True Labels')\n",
    "plt.show()\n"
   ]
  },
  {
   "cell_type": "markdown",
   "metadata": {},
   "source": [
    "# Saving the model"
   ]
  },
  {
   "cell_type": "code",
   "execution_count": 10,
   "metadata": {},
   "outputs": [],
   "source": [
    "\"\"\"\n",
    "import pickle\n",
    "\n",
    "def save_object(obj, filename):\n",
    "    with open(filename, 'wb') as outp:\n",
    "        pickle.dump(obj, outp, pickle.HIGHEST_PROTOCOL)\n",
    "\n",
    "\n",
    "save_object(model, 'nn_model.pkl')\n",
    "\"\"\""
   ]
  },
  {
   "cell_type": "code",
   "execution_count": 20,
   "metadata": {},
   "outputs": [],
   "source": [
    "\"\"\"\n",
    "with open('nn_model.pkl', 'rb') as pickle_file:\n",
    "    model2 = pickle.load(pickle_file)\n",
    "\"\"\""
   ]
  },
  {
   "cell_type": "markdown",
   "metadata": {},
   "source": [
    "# Performance Analysis"
   ]
  },
  {
   "cell_type": "code",
   "execution_count": 7,
   "metadata": {},
   "outputs": [
    {
     "name": "stderr",
     "output_type": "stream",
     "text": [
      "| Epoch:0 | Loss:0.17 | Validation Loss:0.12 |: 100%|██████████| 158/158 [01:15<00:00,  2.11it/s]"
     ]
    },
    {
     "name": "stdout",
     "output_type": "stream",
     "text": [
      "Timer unit: 1e-07 s\n",
      "\n",
      "Total time: 29.4661 s\n",
      "File: C:\\Users\\Onat\\AppData\\Local\\Temp/ipykernel_2308/2659015140.py\n",
      "Function: feed_forward_train at line 62\n",
      "\n",
      "Line #      Hits         Time  Per Hit   % Time  Line Contents\n",
      "==============================================================\n",
      "    62                                               def feed_forward_train(self,model_input):\n",
      "    63     79000    1443486.0     18.3      0.5          self.local_field_list = list() #resetting local field list\n",
      "    64     79000     776143.0      9.8      0.3          self.activation_list = list()\n",
      "    65     79000   11926417.0    151.0      4.0          actv = np.vectorize(self.activation,otypes=[np.float32])\n",
      "    66     79000   23931824.0    302.9      8.1          estimation = np.transpose(np.matrix(model_input))#,shape=(np.size(model_input),1))\n",
      "    67     79000     996944.0     12.6      0.3          self.activation_list.append(estimation)\n",
      "    68     79000     652795.0      8.3      0.2          self.local_field_list.append(estimation)\n",
      "    69    316000    3077859.0      9.7      1.0          for ind,matrix in enumerate(self.weight_matrix):\n",
      "    70    237000   67643179.0    285.4     23.0              estimation=matrix*(np.concatenate((estimation,np.ones((1,1))),axis=0))\n",
      "    71    237000    2875475.0     12.1      1.0              self.local_field_list.append(estimation)\n",
      "    72    237000  101842922.0    429.7     34.6              estimation = actv(estimation,self.layer_list[ind+1].activation_func)\n",
      "    73    237000    3220439.0     13.6      1.1              self.activation_list.append(estimation)\n",
      "    74                                                   \n",
      "    75     79000     769299.0      9.7      0.3          if self.layer_list[-1].activation_func==\"softmax\":\n",
      "    76     79000   20167542.0    255.3      6.8              if not np.isnan(estimation.any()):\n",
      "    77     79000   55336482.0    700.5     18.8                  return estimation/(sum(estimation)+1e-5)\n",
      "    78                                                       else:\n",
      "    79                                                           self.indicator = 1\n",
      "    80                                                           return estimation/(sum(estimation)+1e-5)\n",
      "    81                                                   \n",
      "    82                                           \n",
      "    83                                                   return estimation\n",
      "\n"
     ]
    },
    {
     "name": "stderr",
     "output_type": "stream",
     "text": [
      "\n"
     ]
    }
   ],
   "source": [
    "from line_profiler import LineProfiler\n",
    "lp = LineProfiler()\n",
    "lp.enable_by_count()\n",
    "lp_wrapper = lp(Sequential_Model.feed_forward_train)\n",
    "model.train(train_x,train_y,epoch=1,learning_rate=0.001,val_size=200)\n",
    "lp.print_stats()"
   ]
  },
  {
   "cell_type": "code",
   "execution_count": null,
   "metadata": {},
   "outputs": [],
   "source": []
  }
 ],
 "metadata": {
  "interpreter": {
   "hash": "51db195162f82df05c60f2be968350518dfdf1445cc2d24d16ac47e24cb84d87"
  },
  "kernelspec": {
   "display_name": "Python 3.9.11 64-bit",
   "language": "python",
   "name": "python3"
  },
  "language_info": {
   "codemirror_mode": {
    "name": "ipython",
    "version": 3
   },
   "file_extension": ".py",
   "mimetype": "text/x-python",
   "name": "python",
   "nbconvert_exporter": "python",
   "pygments_lexer": "ipython3",
   "version": "3.9.11"
  },
  "orig_nbformat": 4
 },
 "nbformat": 4,
 "nbformat_minor": 2
}
