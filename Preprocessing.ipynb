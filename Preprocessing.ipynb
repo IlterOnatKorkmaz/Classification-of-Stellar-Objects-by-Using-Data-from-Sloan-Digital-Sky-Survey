{
 "cells": [
  {
   "cell_type": "code",
   "execution_count": 61,
   "id": "059fe6df-08d0-4520-a4f7-22446c5f3702",
   "metadata": {},
   "outputs": [],
   "source": [
    "import pandas as pd\n",
    "import numpy as np\n",
    "import matplotlib.pyplot as plt "
   ]
  },
  {
   "cell_type": "code",
   "execution_count": 62,
   "id": "9f8ef43c-0b7a-41c8-b2fe-a27e2bdbb787",
   "metadata": {},
   "outputs": [],
   "source": [
    "\n",
    "\"\"\"\n",
    "Preprocesses the data and returns \n",
    "train_x, train_y, test_x, test_y.\n",
    "\n",
    "row_count: The number of rows to preprocess.\n",
    "The sizes of the train_x and test_x are 80 to 20.\n",
    "I.e., 20% of the train data is splitted into test data.\n",
    "\"\"\"\n",
    "def label_corrector(array):\n",
    "    temp = list()\n",
    "    seen_labels = set()\n",
    "    dict_of_labels = dict()\n",
    "    label_counter = -1\n",
    "    for label in array:\n",
    "        if label in seen_labels:\n",
    "            temp.append(dict_of_labels[label])\n",
    "        else:\n",
    "            label_counter += 1\n",
    "            dict_of_labels[label] = label_counter\n",
    "            seen_labels.add(label)\n",
    "            temp.append(label_counter)\n",
    "    return np.array(temp)\n",
    "\n",
    "def preprocess(row_count=100000):\n",
    "    df = pd.read_csv('star_classification.csv')\n",
    "    df.drop(['obj_ID'], axis = 1,inplace=True) #dropping OBJ_ID feature as it is just the ID\n",
    "    df.drop(['rerun_ID'], axis = 1,inplace=True)#dropping rerun_ID feature as it is the same for all\n",
    "    df.drop(['run_ID'], axis = 1,inplace=True)\n",
    "    df.drop(['field_ID'], axis = 1,inplace=True)\n",
    "    df.drop(['spec_obj_ID'], axis = 1,inplace=True)\n",
    "    \n",
    "    data = np.array(df)\n",
    "    class_index = 8\n",
    "    data[:,class_index] = label_corrector(data[:,class_index])\n",
    "    \n",
    "    divide_index = int(row_count * 0.8)\n",
    "    train_d = data[:divide_index]\n",
    "    train_x = np.concatenate((train_d[:,:class_index],train_d[:,class_index+1:]),axis=1)\n",
    "    train_y = train_d[:,class_index]\n",
    "\n",
    "    test_d = data[divide_index:row_count]\n",
    "    test_x = np.concatenate((test_d[:,:class_index],test_d[:,class_index+1:]),axis=1)\n",
    "    test_y = test_d[:,class_index]\n",
    "    \n",
    "    # Removing Outliers\n",
    "    tdata = np.transpose(train_x) #transposed training matrix\n",
    "    \n",
    "    # Outliers can be removed given that it is not a critical task (serious applications) and there are not many outliers\n",
    "    # 9th feature has many outliers, close to 5-10 percent. Hence, only the outliers of 2 3 4 5 6 th features will be removed.\n",
    "\n",
    "    #removing outliers:\n",
    "    IQRs = list()\n",
    "    outlier_rows = np.array([])\n",
    "    for ind, col in  enumerate(tdata):\n",
    "        if ind in [3,4,5,6,2]:\n",
    "            percentiles = np.percentile(col,[25,75])\n",
    "            IQR = percentiles[1]-percentiles[0]\n",
    "            right = (col>percentiles[1]+1.5*IQR)*1\n",
    "            left = (col < (percentiles[0]-1.5*IQR))*1\n",
    "            outliers = right+left\n",
    "            #print(f\"{ind}th feature has {sum(outliers)} outliers.\")\n",
    "            outlier_rows = np.append(outlier_rows,np.where(outliers == 1)[0])\n",
    "            \n",
    "    outlier_rows = np.array(list(set(outlier_rows)))\n",
    "    outlier_rows = np.array(outlier_rows,dtype = 'int')\n",
    "    train_x = np.delete(train_x,outlier_rows,axis=0)\n",
    "    train_y = np.delete(train_y,outlier_rows,axis=0)\n",
    "    \n",
    "    # Standardize the dataset\n",
    "    means_x = list()\n",
    "    stds_x = list()\n",
    "\n",
    "    for ind in range(np.shape(train_x)[1]):\n",
    "        col = train_x[:,ind]\n",
    "        mean = np.mean(col)\n",
    "        std = np.std(col)\n",
    "        means_x.append(mean)\n",
    "        stds_x.append(std)\n",
    "        train_x[:,ind] = (col-mean)/std\n",
    "\n",
    "    for ind in range(np.shape(test_x)[1]):\n",
    "        col = test_x[:,ind]\n",
    "        test_x[:,ind] = (col-means_x[ind])/stds_x[ind]\n",
    "    \n",
    "    return train_x, train_y, test_x, test_y"
   ]
  },
  {
   "cell_type": "code",
   "execution_count": null,
   "id": "edce5af4-aa60-4e2d-a224-ffcfb98d8660",
   "metadata": {
    "tags": []
   },
   "outputs": [],
   "source": []
  },
  {
   "cell_type": "code",
   "execution_count": null,
   "id": "7e373539-b206-4582-9a4c-e94c8a8f303f",
   "metadata": {
    "tags": []
   },
   "outputs": [],
   "source": []
  },
  {
   "cell_type": "code",
   "execution_count": null,
   "id": "74b7c72b-61f6-4f63-a29f-6c1c9ba35928",
   "metadata": {},
   "outputs": [],
   "source": []
  },
  {
   "cell_type": "code",
   "execution_count": 3,
   "id": "288306c3-2f96-4a0c-839b-60661181abc5",
   "metadata": {
    "tags": []
   },
   "outputs": [],
   "source": [
    "# Principal Component Analysis"
   ]
  },
  {
   "cell_type": "code",
   "execution_count": 6,
   "id": "e786b989-029d-4830-908b-a36db7e86d74",
   "metadata": {},
   "outputs": [],
   "source": [
    "#train_x, train_y, test_x, test_y = preprocess(row_count=30000)\n",
    "\n",
    "# Combine the training and test data\n",
    "#all_data = np.vstack((train_x, test_x))\n",
    "\n",
    "#all_data\n",
    "#cov_mat = np.cov(all_data.astype(float))\n",
    "#cov_mat\n"
   ]
  },
  {
   "cell_type": "code",
   "execution_count": 7,
   "id": "5613c953-4651-451a-bd71-85d7e15d0155",
   "metadata": {},
   "outputs": [],
   "source": [
    "#eig_values, eig_vectors = np.linalg.eig(cov_mat)"
   ]
  },
  {
   "cell_type": "code",
   "execution_count": 8,
   "id": "15e49d50-277d-4015-bf93-1339983a1669",
   "metadata": {},
   "outputs": [],
   "source": [
    "#e_indices = np.argsort(eig_values)[::-1]\n",
    "#eigenvectors_sorted = eig_vectors[:,e_indices]\n",
    "#eigenvectors_sorted"
   ]
  },
  {
   "cell_type": "code",
   "execution_count": 9,
   "id": "5138111c-f266-45dc-b197-c9f3bad856c3",
   "metadata": {},
   "outputs": [],
   "source": [
    "#variance_explained = []\n",
    "#for i in eig_values:\n",
    "#    variance_explained.append((i/sum(eig_values))*100)\n",
    "#print(variance_explained)"
   ]
  },
  {
   "cell_type": "code",
   "execution_count": 10,
   "id": "075fbc56-57e3-4137-a4f5-b7ad11a35db5",
   "metadata": {},
   "outputs": [],
   "source": [
    "#with plt.style.context('ggplot'):\n",
    "#    plt.figure(figsize=(6, 4))\n",
    "#    plt.bar(range(12), variance_explained, alpha=0.5, align='center',\n",
    "#            label='individual explained variance')\n",
    "#    plt.ylabel('Explained variance ratio')\n",
    "#    plt.xlabel('Principal components')\n",
    "#    plt.legend()\n",
    "#    plt.tight_layout()"
   ]
  },
  {
   "cell_type": "code",
   "execution_count": 11,
   "id": "843efb8c-ad23-42c6-a00e-0c2ef140475a",
   "metadata": {},
   "outputs": [],
   "source": [
    "feature_names = [\"alpha\", \"delta\", \"u\", \"g\", \"r\", \"i\", \"z\", \"cam_col\", \"redshift\", \"plate\", \"MFD\", \"fiber_ID\"]\n"
   ]
  },
  {
   "cell_type": "code",
   "execution_count": 12,
   "id": "f5fc7b4a-0b1b-4c96-900b-0f4555e7c8c6",
   "metadata": {},
   "outputs": [
    {
     "data": {
      "text/plain": [
       "\"\\ndf = pd.read_csv('star_classification.csv')\\ndf.drop(['obj_ID'], axis = 1,inplace=True) #dropping OBJ_ID feature as it is just the ID\\ndf.drop(['rerun_ID'], axis = 1,inplace=True)#dropping rerun_ID feature as it is the same for all\\ndf.drop(['run_ID'], axis = 1,inplace=True)\\ndf.drop(['field_ID'], axis = 1,inplace=True)\\ndf.drop(['spec_obj_ID'], axis = 1,inplace=True)\\n\\n#if you drop a column, adjust the class_index variable so that it is the index of the class labels. for example, it is 8 now (8th column)\\ndf\\n\\ndata = np.array(df)\\n\\n#dealing with class labels (changing class strings to 0 1 2):\\ndef label_corrector(array):\\n    temp = list()\\n    seen_labels = set()\\n    dict_of_labels = dict()\\n    label_counter = -1\\n    for label in array:\\n        if label in seen_labels:\\n            temp.append(dict_of_labels[label])\\n        else:\\n            label_counter += 1\\n            dict_of_labels[label] = label_counter\\n            seen_labels.add(label)\\n            temp.append(label_counter)\\n    return np.array(temp)\\n\\nclass_index = 8\\n\\ndata[:,class_index] = label_corrector(data[:,class_index])\\n\\ntrain_d = data[:80000]\\ntrain_x = np.concatenate((train_d[:,:class_index],train_d[:,class_index+1:]),axis=1)\\ntrain_y = train_d[:,class_index]\\n\\ntest_d = data[80000:]\\ntest_x = np.concatenate((test_d[:,:class_index],test_d[:,class_index+1:]),axis=1)\\ntest_y = test_d[:,class_index]\\n\\ndfp = df.drop(['class'], axis=1)\\n\""
      ]
     },
     "execution_count": 12,
     "metadata": {},
     "output_type": "execute_result"
    }
   ],
   "source": [
    "\n",
    "#df = pd.read_csv('star_classification.csv')\n",
    "#df.drop(['obj_ID'], axis = 1,inplace=True) #dropping OBJ_ID feature as it is just the ID\n",
    "#df.drop(['rerun_ID'], axis = 1,inplace=True)#dropping rerun_ID feature as it is the same for all\n",
    "#df.drop(['run_ID'], axis = 1,inplace=True)\n",
    "#df.drop(['field_ID'], axis = 1,inplace=True)\n",
    "#df.drop(['spec_obj_ID'], axis = 1,inplace=True)\n",
    "#\n",
    "##if you drop a column, adjust the class_index variable so that it is the index of the class labels. for example, it is 8 now (8th column)\n",
    "#df\n",
    "#\n",
    "#data = np.array(df)\n",
    "#\n",
    "##dealing with class labels (changing class strings to 0 1 2):\n",
    "#def label_corrector(array):\n",
    "#    temp = list()\n",
    "#    seen_labels = set()\n",
    "#    dict_of_labels = dict()\n",
    "#    label_counter = -1\n",
    "#    for label in array:\n",
    "#        if label in seen_labels:\n",
    "#            temp.append(dict_of_labels[label])\n",
    "#        else:\n",
    "#            label_counter += 1\n",
    "#            dict_of_labels[label] = label_counter\n",
    "#            seen_labels.add(label)\n",
    "#            temp.append(label_counter)\n",
    "#    return np.array(temp)\n",
    "#\n",
    "#class_index = 8\n",
    "#\n",
    "#data[:,class_index] = label_corrector(data[:,class_index])\n",
    "#\n",
    "#train_d = data[:80000]\n",
    "#train_x = np.concatenate((train_d[:,:class_index],train_d[:,class_index+1:]),axis=1)\n",
    "#train_y = train_d[:,class_index]\n",
    "#\n",
    "#test_d = data[80000:]\n",
    "#test_x = np.concatenate((test_d[:,:class_index],test_d[:,class_index+1:]),axis=1)\n",
    "#test_y = test_d[:,class_index]\n",
    "#\n",
    "#dfp = df.drop(['class'], axis=1)\n"
   ]
  },
  {
   "cell_type": "markdown",
   "id": "6116d1c8",
   "metadata": {
    "tags": []
   },
   "source": [
    "# Visualizing Training Data"
   ]
  },
  {
   "cell_type": "code",
   "execution_count": 6,
   "id": "9aa558ee-4701-4bf8-881a-5a813db135a6",
   "metadata": {},
   "outputs": [],
   "source": [
    "#import seaborn as sns\n",
    "#import warnings\n",
    "#warnings.filterwarnings('ignore')\n",
    "#sns.set(rc = {'figure.figsize':(10,6)})\n",
    "#\n",
    "#df = pd.read_csv('star_classification.csv')\n",
    "#\n",
    "#df['label'] = pd.factorize(df['class'], sort=True)[0] \n",
    "#classes = [\"GALAXY\", \"QSO\", \"STAR\"]\n",
    "#\n",
    "#def plot(column):\n",
    "#    for i in range(3):\n",
    "#        sns.kdeplot(data=df[df[\"label\"] == i][column], label = classes[i])\n",
    "#    plt.legend();\n",
    "#    \n",
    "#def log_plot(column):\n",
    "#    for i in range(3):\n",
    "#        sns.kdeplot(data=np.log(df[df[\"label\"] == i][column]), label = classes[i])\n",
    "#    plt.legend();"
   ]
  },
  {
   "cell_type": "code",
   "execution_count": 7,
   "id": "fe6d5bc0-7e7e-4ddd-968b-1482d88e84b2",
   "metadata": {},
   "outputs": [
    {
     "data": {
      "image/png": "[encoded data removed]",
      "text/plain": [
       "<Figure size 720x432 with 1 Axes>"
      ]
     },
     "metadata": {},
     "output_type": "display_data"
    }
   ],
   "source": [
    "#plot(\"alpha\")"
   ]
  },
  {
   "cell_type": "code",
   "execution_count": null,
   "id": "974851d1-1c5f-4380-8538-2c4f8af56317",
   "metadata": {},
   "outputs": [],
   "source": [
    "#plot(\"delta\")\n"
   ]
  },
  {
   "cell_type": "code",
   "execution_count": null,
   "id": "6eb74a59-3d1d-4f33-96bc-3b8a3d4b07f5",
   "metadata": {},
   "outputs": [],
   "source": [
    "#log_plot(\"u\")\n"
   ]
  },
  {
   "cell_type": "code",
   "execution_count": null,
   "id": "00fbbe3f-4a4d-4ed4-b30f-0768976b7763",
   "metadata": {},
   "outputs": [],
   "source": [
    "#log_plot(\"g\")\n"
   ]
  },
  {
   "cell_type": "code",
   "execution_count": null,
   "id": "67eab97f-abfe-403e-ac4d-c61797272854",
   "metadata": {},
   "outputs": [],
   "source": [
    "#plot(\"r\")\n"
   ]
  },
  {
   "cell_type": "code",
   "execution_count": null,
   "id": "44b2746d-df0a-454e-a148-d404a3bee511",
   "metadata": {},
   "outputs": [],
   "source": [
    "#plot(\"i\")\n"
   ]
  },
  {
   "cell_type": "code",
   "execution_count": null,
   "id": "2f83966f-761c-4965-a1bc-be8311c7c5f6",
   "metadata": {},
   "outputs": [],
   "source": [
    "#log_plot(\"z\")\n"
   ]
  },
  {
   "cell_type": "code",
   "execution_count": null,
   "id": "0062e468-cb41-4ea1-9605-b7a6d42818b1",
   "metadata": {},
   "outputs": [],
   "source": [
    "#plot(\"cam_col\")\n"
   ]
  },
  {
   "cell_type": "code",
   "execution_count": null,
   "id": "042f6b61-5390-4c19-9f73-745e7151c8b9",
   "metadata": {},
   "outputs": [],
   "source": [
    "#plot(\"plate\")\n"
   ]
  },
  {
   "cell_type": "code",
   "execution_count": null,
   "id": "585f6272-2e1f-477a-8457-eb40b91efbb0",
   "metadata": {},
   "outputs": [],
   "source": [
    "#plot(\"MJD\")\n"
   ]
  },
  {
   "cell_type": "code",
   "execution_count": null,
   "id": "3227399c-0ee9-482a-94c9-bc94056e60d9",
   "metadata": {},
   "outputs": [],
   "source": [
    "#plot(\"fiber_ID\")\n"
   ]
  },
  {
   "cell_type": "code",
   "execution_count": null,
   "id": "b7db9a83-5518-4cb7-be1f-0c0c42aa126c",
   "metadata": {},
   "outputs": [],
   "source": [
    "#log_plot(\"redshift\")"
   ]
  },
  {
   "cell_type": "code",
   "execution_count": null,
   "id": "87088f7c-395e-454e-bae3-ff25b2c3ca56",
   "metadata": {},
   "outputs": [],
   "source": [
    "#df.columns"
   ]
  },
  {
   "cell_type": "code",
   "execution_count": null,
   "id": "f3c78ac2",
   "metadata": {},
   "outputs": [],
   "source": [
    "##getting the feature histograms\n",
    "#tdata = np.transpose(train_x) #transposed training matrix\n",
    "#histograms = list()\n",
    "#i = 0\n",
    "#for col in  tdata:\n",
    "#    hst = np.histogram(col,bins = 100) \n",
    "#    histograms.append(hst)\n",
    "#    plt.plot(hst[1][1:],hst[0])\n",
    "#    plt.xlabel(dfp.columns[i])\n",
    "#    plt.show()\n",
    "#    i += 1\n",
    "#"
   ]
  },
  {
   "cell_type": "code",
   "execution_count": null,
   "id": "9b6c2d4d-6289-41b3-8a59-116227403165",
   "metadata": {},
   "outputs": [],
   "source": []
  },
  {
   "cell_type": "code",
   "execution_count": null,
   "id": "284a223a-f41a-427e-ab62-da4eaef0bff8",
   "metadata": {},
   "outputs": [],
   "source": []
  },
  {
   "cell_type": "code",
   "execution_count": null,
   "id": "a9c7833a-22ec-4217-8ec7-4d3d243ce44c",
   "metadata": {},
   "outputs": [],
   "source": []
  },
  {
   "cell_type": "code",
   "execution_count": null,
   "id": "c5bc13b0-59cc-46b7-85d6-b24032dcff69",
   "metadata": {},
   "outputs": [],
   "source": []
  },
  {
   "cell_type": "code",
   "execution_count": null,
   "id": "d1636fc3-cca4-413d-be8d-917c40d0c7ca",
   "metadata": {},
   "outputs": [],
   "source": []
  },
  {
   "cell_type": "markdown",
   "id": "e91a1706",
   "metadata": {},
   "source": [
    "# Removing Outliers from training data"
   ]
  },
  {
   "cell_type": "code",
   "execution_count": 14,
   "id": "24a70bf0",
   "metadata": {},
   "outputs": [
    {
     "ename": "NameError",
     "evalue": "name 'tdata' is not defined",
     "output_type": "error",
     "traceback": [
      "\u001b[1;31m---------------------------------------------------------------------------\u001b[0m",
      "\u001b[1;31mNameError\u001b[0m                                 Traceback (most recent call last)",
      "\u001b[1;32m~\\AppData\\Local\\Temp/ipykernel_12304/1042767675.py\u001b[0m in \u001b[0;36m<module>\u001b[1;34m\u001b[0m\n\u001b[0;32m      1\u001b[0m \u001b[1;31m#histograms show that there are outliers, to be sure, IQR concept is used to look at outliers:\u001b[0m\u001b[1;33m\u001b[0m\u001b[1;33m\u001b[0m\u001b[0m\n\u001b[0;32m      2\u001b[0m \u001b[0mIQRs\u001b[0m \u001b[1;33m=\u001b[0m \u001b[0mlist\u001b[0m\u001b[1;33m(\u001b[0m\u001b[1;33m)\u001b[0m\u001b[1;33m\u001b[0m\u001b[1;33m\u001b[0m\u001b[0m\n\u001b[1;32m----> 3\u001b[1;33m \u001b[1;32mfor\u001b[0m \u001b[0mind\u001b[0m\u001b[1;33m,\u001b[0m \u001b[0mcol\u001b[0m \u001b[1;32min\u001b[0m  \u001b[0menumerate\u001b[0m\u001b[1;33m(\u001b[0m\u001b[0mtdata\u001b[0m\u001b[1;33m)\u001b[0m\u001b[1;33m:\u001b[0m\u001b[1;33m\u001b[0m\u001b[1;33m\u001b[0m\u001b[0m\n\u001b[0m\u001b[0;32m      4\u001b[0m     \u001b[0mpercentiles\u001b[0m \u001b[1;33m=\u001b[0m \u001b[0mnp\u001b[0m\u001b[1;33m.\u001b[0m\u001b[0mpercentile\u001b[0m\u001b[1;33m(\u001b[0m\u001b[0mcol\u001b[0m\u001b[1;33m,\u001b[0m\u001b[1;33m[\u001b[0m\u001b[1;36m25\u001b[0m\u001b[1;33m,\u001b[0m\u001b[1;36m75\u001b[0m\u001b[1;33m]\u001b[0m\u001b[1;33m)\u001b[0m \u001b[1;31m#calclating 25 and 75 th percentiles\u001b[0m\u001b[1;33m\u001b[0m\u001b[1;33m\u001b[0m\u001b[0m\n\u001b[0;32m      5\u001b[0m     \u001b[0mIQR\u001b[0m \u001b[1;33m=\u001b[0m \u001b[0mpercentiles\u001b[0m\u001b[1;33m[\u001b[0m\u001b[1;36m1\u001b[0m\u001b[1;33m]\u001b[0m\u001b[1;33m-\u001b[0m\u001b[0mpercentiles\u001b[0m\u001b[1;33m[\u001b[0m\u001b[1;36m0\u001b[0m\u001b[1;33m]\u001b[0m \u001b[1;31m#calulating interquartile range\u001b[0m\u001b[1;33m\u001b[0m\u001b[1;33m\u001b[0m\u001b[0m\n",
      "\u001b[1;31mNameError\u001b[0m: name 'tdata' is not defined"
     ]
    }
   ],
   "source": [
    "#histograms show that there are outliers, to be sure, IQR concept is used to look at outliers:\n",
    "#IQRs = list()\n",
    "#for ind, col in  enumerate(tdata):\n",
    "#    percentiles = np.percentile(col,[25,75]) #calclating 25 and 75 th percentiles\n",
    "#    IQR = percentiles[1]-percentiles[0] #calulating interquartile range\n",
    "#    right = col>(percentiles[1]+1.5*IQR)\n",
    "#    left = col <(percentiles[0]-1.5*IQR)\n",
    "#    outliers = right+left\n",
    "#    print(f\"{ind}th feature has {sum(outliers)} outliers.\")\n",
    "#    "
   ]
  },
  {
   "cell_type": "code",
   "execution_count": 15,
   "id": "bb0ac1c6",
   "metadata": {},
   "outputs": [
    {
     "ename": "NameError",
     "evalue": "name 'tdata' is not defined",
     "output_type": "error",
     "traceback": [
      "\u001b[1;31m---------------------------------------------------------------------------\u001b[0m",
      "\u001b[1;31mNameError\u001b[0m                                 Traceback (most recent call last)",
      "\u001b[1;32m~\\AppData\\Local\\Temp/ipykernel_12304/4219237384.py\u001b[0m in \u001b[0;36m<module>\u001b[1;34m\u001b[0m\n\u001b[0;32m      5\u001b[0m \u001b[0mIQRs\u001b[0m \u001b[1;33m=\u001b[0m \u001b[0mlist\u001b[0m\u001b[1;33m(\u001b[0m\u001b[1;33m)\u001b[0m\u001b[1;33m\u001b[0m\u001b[1;33m\u001b[0m\u001b[0m\n\u001b[0;32m      6\u001b[0m \u001b[0moutlier_rows\u001b[0m \u001b[1;33m=\u001b[0m \u001b[0mnp\u001b[0m\u001b[1;33m.\u001b[0m\u001b[0marray\u001b[0m\u001b[1;33m(\u001b[0m\u001b[1;33m[\u001b[0m\u001b[1;33m]\u001b[0m\u001b[1;33m)\u001b[0m\u001b[1;33m\u001b[0m\u001b[1;33m\u001b[0m\u001b[0m\n\u001b[1;32m----> 7\u001b[1;33m \u001b[1;32mfor\u001b[0m \u001b[0mind\u001b[0m\u001b[1;33m,\u001b[0m \u001b[0mcol\u001b[0m \u001b[1;32min\u001b[0m  \u001b[0menumerate\u001b[0m\u001b[1;33m(\u001b[0m\u001b[0mtdata\u001b[0m\u001b[1;33m)\u001b[0m\u001b[1;33m:\u001b[0m\u001b[1;33m\u001b[0m\u001b[1;33m\u001b[0m\u001b[0m\n\u001b[0m\u001b[0;32m      8\u001b[0m     \u001b[1;32mif\u001b[0m \u001b[0mind\u001b[0m \u001b[1;32min\u001b[0m \u001b[1;33m[\u001b[0m\u001b[1;36m3\u001b[0m\u001b[1;33m,\u001b[0m\u001b[1;36m4\u001b[0m\u001b[1;33m,\u001b[0m\u001b[1;36m5\u001b[0m\u001b[1;33m,\u001b[0m\u001b[1;36m6\u001b[0m\u001b[1;33m,\u001b[0m\u001b[1;36m2\u001b[0m\u001b[1;33m]\u001b[0m\u001b[1;33m:\u001b[0m\u001b[1;33m\u001b[0m\u001b[1;33m\u001b[0m\u001b[0m\n\u001b[0;32m      9\u001b[0m         \u001b[0mpercentiles\u001b[0m \u001b[1;33m=\u001b[0m \u001b[0mnp\u001b[0m\u001b[1;33m.\u001b[0m\u001b[0mpercentile\u001b[0m\u001b[1;33m(\u001b[0m\u001b[0mcol\u001b[0m\u001b[1;33m,\u001b[0m\u001b[1;33m[\u001b[0m\u001b[1;36m25\u001b[0m\u001b[1;33m,\u001b[0m\u001b[1;36m75\u001b[0m\u001b[1;33m]\u001b[0m\u001b[1;33m)\u001b[0m\u001b[1;33m\u001b[0m\u001b[1;33m\u001b[0m\u001b[0m\n",
      "\u001b[1;31mNameError\u001b[0m: name 'tdata' is not defined"
     ]
    }
   ],
   "source": [
    "# Outliers can be removed given that it is not a critical task (serious applications) and there are not many outliers\n",
    "#9th feature has many outliers, close to 5-10 percent. Hence, only the outliers of 2 3 4 5 6 th features will be removed.\n",
    "\n",
    "#removing outliers:\n",
    "#IQRs = list()\n",
    "#outlier_rows = np.array([])\n",
    "#for ind, col in  enumerate(tdata):\n",
    "#    if ind in [3,4,5,6,2]:\n",
    "#        percentiles = np.percentile(col,[25,75])\n",
    "#        IQR = percentiles[1]-percentiles[0]\n",
    "#        right = (col>percentiles[1]+1.5*IQR)*1\n",
    "#        left = (col < (percentiles[0]-1.5*IQR))*1\n",
    "#        outliers = right+left\n",
    "#        #print(f\"{ind}th feature has {sum(outliers)} outliers.\")\n",
    "#        outlier_rows = np.append(outlier_rows,np.where(outliers == 1)[0])\n",
    "#outlier_rows = np.array(list(set(outlier_rows)))\n",
    "#outlier_rows = np.array(outlier_rows,dtype = 'int')\n",
    "#train_x = np.delete(train_x,outlier_rows,axis=0)\n",
    "#train_y = np.delete(train_y,outlier_rows,axis=0)"
   ]
  },
  {
   "cell_type": "code",
   "execution_count": 16,
   "id": "f68965e2",
   "metadata": {},
   "outputs": [
    {
     "ename": "NameError",
     "evalue": "name 'train_x' is not defined",
     "output_type": "error",
     "traceback": [
      "\u001b[1;31m---------------------------------------------------------------------------\u001b[0m",
      "\u001b[1;31mNameError\u001b[0m                                 Traceback (most recent call last)",
      "\u001b[1;32m~\\AppData\\Local\\Temp/ipykernel_12304/485363606.py\u001b[0m in \u001b[0;36m<module>\u001b[1;34m\u001b[0m\n\u001b[0;32m      1\u001b[0m \u001b[1;31m#Looking at histograms after outliers are removed:\u001b[0m\u001b[1;33m\u001b[0m\u001b[1;33m\u001b[0m\u001b[0m\n\u001b[0;32m      2\u001b[0m \u001b[1;31m#getting the feature histograms:\u001b[0m\u001b[1;33m\u001b[0m\u001b[1;33m\u001b[0m\u001b[0m\n\u001b[1;32m----> 3\u001b[1;33m \u001b[0mtdata\u001b[0m \u001b[1;33m=\u001b[0m \u001b[0mnp\u001b[0m\u001b[1;33m.\u001b[0m\u001b[0mtranspose\u001b[0m\u001b[1;33m(\u001b[0m\u001b[0mtrain_x\u001b[0m\u001b[1;33m)\u001b[0m \u001b[1;31m#transposed training matrix\u001b[0m\u001b[1;33m\u001b[0m\u001b[1;33m\u001b[0m\u001b[0m\n\u001b[0m\u001b[0;32m      4\u001b[0m \u001b[0mhistograms\u001b[0m \u001b[1;33m=\u001b[0m \u001b[0mlist\u001b[0m\u001b[1;33m(\u001b[0m\u001b[1;33m)\u001b[0m\u001b[1;33m\u001b[0m\u001b[1;33m\u001b[0m\u001b[0m\n\u001b[0;32m      5\u001b[0m \u001b[1;32mfor\u001b[0m \u001b[0mcol\u001b[0m \u001b[1;32min\u001b[0m  \u001b[0mtdata\u001b[0m\u001b[1;33m:\u001b[0m\u001b[1;33m\u001b[0m\u001b[1;33m\u001b[0m\u001b[0m\n",
      "\u001b[1;31mNameError\u001b[0m: name 'train_x' is not defined"
     ]
    }
   ],
   "source": [
    "#Looking at histograms after outliers are removed:\n",
    "##getting the feature histograms:\n",
    "#tdata = np.transpose(train_x) #transposed training matrix\n",
    "#histograms = list()\n",
    "#for col in  tdata:\n",
    "#    hst = np.histogram(col,bins = 100) \n",
    "#    histograms.append(hst)\n",
    "#    plt.plot(hst[1][1:],hst[0])\n",
    "#    plt.show()"
   ]
  },
  {
   "cell_type": "markdown",
   "id": "519d0175",
   "metadata": {},
   "source": [
    "# Standardize Data"
   ]
  },
  {
   "cell_type": "code",
   "execution_count": 29,
   "id": "1ec2c644",
   "metadata": {},
   "outputs": [],
   "source": [
    "\"\"\" \n",
    "#This is the wrong way of normalizing. This part should be ignored\n",
    "#normalize data for each feature column:\n",
    "\n",
    "def normalize(matrix):\n",
    "    temp = np.copy(matrix)\n",
    "    tmatrix = np.transpose(temp)\n",
    "    for ind, col in enumerate(tmatrix):\n",
    "        temp[:,ind] = normalizer(col)\n",
    "    return temp\n",
    "def normalizer(array):\n",
    "    maks = max(array)\n",
    "    mini = min(array)\n",
    "    if maks!=mini:\n",
    "        return (array-mini)/(maks-mini)\n",
    "    else:\n",
    "        return array-mini\n",
    "    \"\"\"\n",
    "pass"
   ]
  },
  {
   "cell_type": "code",
   "execution_count": 30,
   "id": "ed9692a3",
   "metadata": {},
   "outputs": [],
   "source": [
    "#means_x = list()\n",
    "#stds_x = list()\n",
    "#\n",
    "#for ind in range(np.shape(train_x)[1]):\n",
    "#    col = train_x[:,ind]\n",
    "#    mean = np.mean(col)\n",
    "#    std = np.std(col)\n",
    "#    means_x.append(mean)\n",
    "#    stds_x.append(std)\n",
    "#    train_x[:,ind] = (col-mean)/std\n",
    "#    \n",
    "#\n",
    "#    \n",
    "#    \n",
    "#\n",
    "#for ind in range(np.shape(test_x)[1]):\n",
    "#    col = test_x[:,ind]\n",
    "#    test_x[:,ind] = (col-means_x[ind])/stds_x[ind]\n",
    "#\n",
    "#    \n"
   ]
  },
  {
   "cell_type": "markdown",
   "id": "98fda21b",
   "metadata": {},
   "source": [
    "**Alternative dataset**"
   ]
  },
  {
   "cell_type": "markdown",
   "id": "d43336ec",
   "metadata": {},
   "source": [
    "# Training with MLP to see if data is properly cleaned"
   ]
  },
  {
   "cell_type": "code",
   "execution_count": 32,
   "id": "c355a4af",
   "metadata": {},
   "outputs": [
    {
     "ename": "ModuleNotFoundError",
     "evalue": "No module named 'imblearn'",
     "output_type": "error",
     "traceback": [
      "\u001b[1;31m---------------------------------------------------------------------------\u001b[0m",
      "\u001b[1;31mModuleNotFoundError\u001b[0m                       Traceback (most recent call last)",
      "\u001b[1;32m~\\AppData\\Local\\Temp/ipykernel_13676/1689111370.py\u001b[0m in \u001b[0;36m<module>\u001b[1;34m\u001b[0m\n\u001b[0;32m      1\u001b[0m \u001b[1;32mimport\u001b[0m \u001b[0mpandas\u001b[0m \u001b[1;32mas\u001b[0m \u001b[0mpd\u001b[0m\u001b[1;33m\u001b[0m\u001b[1;33m\u001b[0m\u001b[0m\n\u001b[1;32m----> 2\u001b[1;33m \u001b[1;32mfrom\u001b[0m \u001b[0mimblearn\u001b[0m\u001b[1;33m.\u001b[0m\u001b[0mover_sampling\u001b[0m \u001b[1;32mimport\u001b[0m \u001b[0mSMOTE\u001b[0m\u001b[1;33m\u001b[0m\u001b[1;33m\u001b[0m\u001b[0m\n\u001b[0m\u001b[0;32m      3\u001b[0m \u001b[1;32mimport\u001b[0m \u001b[0mnumpy\u001b[0m \u001b[1;32mas\u001b[0m \u001b[0mnp\u001b[0m\u001b[1;33m\u001b[0m\u001b[1;33m\u001b[0m\u001b[0m\n\u001b[0;32m      4\u001b[0m \u001b[1;32mimport\u001b[0m \u001b[0mpickle\u001b[0m\u001b[1;33m\u001b[0m\u001b[1;33m\u001b[0m\u001b[0m\n\u001b[0;32m      5\u001b[0m \u001b[1;32mfrom\u001b[0m \u001b[0msklearn\u001b[0m\u001b[1;33m.\u001b[0m\u001b[0mmodel_selection\u001b[0m \u001b[1;32mimport\u001b[0m \u001b[0mtrain_test_split\u001b[0m\u001b[1;33m\u001b[0m\u001b[1;33m\u001b[0m\u001b[0m\n",
      "\u001b[1;31mModuleNotFoundError\u001b[0m: No module named 'imblearn'"
     ]
    }
   ],
   "source": [
    "#import pandas as pd\n",
    "#from imblearn.over_sampling import SMOTE\n",
    "#import numpy as np\n",
    "#import pickle\n",
    "#from sklearn.model_selection import train_test_split\n",
    "#from keras.models import Sequential\n",
    "#from keras.layers import Dense, Dropout, LayerNormalization,BatchNormalization\n",
    "#import seaborn as sns\n",
    "#from sklearn.preprocessing import normalize\n",
    "#from sklearn.preprocessing import StandardScaler\n",
    "#from sklearn.decomposition import PCA\n",
    "#import matplotlib.pyplot as plt\n",
    "#import scipy.io\n",
    "#from tensorflow import keras,device\n",
    "#from tensorflow.keras.layers import Dense\n",
    "#from tensorflow.keras.models import Sequential\n",
    "#from time import time\n",
    "#from tensorflow.keras.callbacks import EarlyStopping\n",
    "#from tensorflow.keras.utils import to_categorical\n",
    "#from datetime import datetime\n",
    "#import tensorflow as tf\n",
    "#import matplotlib.pyplot as plt\n",
    "#from sklearn import decomposition, datasets\n",
    "#from sklearn.preprocessing import StandardScaler\n",
    "#from collections import Counter\n",
    "#from matplotlib import pyplot\n",
    "#from sklearn.preprocessing import LabelEncoder\n",
    "#from sklearn.model_selection import KFold\n",
    "#from sklearn.model_selection import cross_val_score\n",
    "#from sklearn.model_selection import train_test_split\n",
    "#from sklearn import svm\n",
    "#from sklearn.metrics import confusion_matrix\n",
    "#import seaborn as sn\n",
    "#import pandas as pd\n",
    "#import matplotlib.pyplot as plt"
   ]
  },
  {
   "cell_type": "code",
   "execution_count": 33,
   "id": "3db2578f",
   "metadata": {},
   "outputs": [
    {
     "ename": "NameError",
     "evalue": "name 'to_categorical' is not defined",
     "output_type": "error",
     "traceback": [
      "\u001b[1;31m---------------------------------------------------------------------------\u001b[0m",
      "\u001b[1;31mNameError\u001b[0m                                 Traceback (most recent call last)",
      "\u001b[1;32m~\\AppData\\Local\\Temp/ipykernel_13676/2788470447.py\u001b[0m in \u001b[0;36m<module>\u001b[1;34m\u001b[0m\n\u001b[0;32m      3\u001b[0m \u001b[0mtest_x\u001b[0m \u001b[1;33m=\u001b[0m \u001b[0mnp\u001b[0m\u001b[1;33m.\u001b[0m\u001b[0masarray\u001b[0m\u001b[1;33m(\u001b[0m\u001b[0mtest_x\u001b[0m\u001b[1;33m)\u001b[0m\u001b[1;33m.\u001b[0m\u001b[0mastype\u001b[0m\u001b[1;33m(\u001b[0m\u001b[1;34m'float32'\u001b[0m\u001b[1;33m)\u001b[0m\u001b[1;33m\u001b[0m\u001b[1;33m\u001b[0m\u001b[0m\n\u001b[0;32m      4\u001b[0m \u001b[0mtest_y\u001b[0m \u001b[1;33m=\u001b[0m \u001b[0mnp\u001b[0m\u001b[1;33m.\u001b[0m\u001b[0masarray\u001b[0m\u001b[1;33m(\u001b[0m\u001b[0mtest_y\u001b[0m\u001b[1;33m)\u001b[0m\u001b[1;33m.\u001b[0m\u001b[0mastype\u001b[0m\u001b[1;33m(\u001b[0m\u001b[1;34m'float32'\u001b[0m\u001b[1;33m)\u001b[0m\u001b[1;33m\u001b[0m\u001b[1;33m\u001b[0m\u001b[0m\n\u001b[1;32m----> 5\u001b[1;33m \u001b[0mtrain_y\u001b[0m \u001b[1;33m=\u001b[0m \u001b[0mto_categorical\u001b[0m\u001b[1;33m(\u001b[0m\u001b[0mtrain_y\u001b[0m\u001b[1;33m)\u001b[0m\u001b[1;33m\u001b[0m\u001b[1;33m\u001b[0m\u001b[0m\n\u001b[0m\u001b[0;32m      6\u001b[0m \u001b[0mtest_y\u001b[0m \u001b[1;33m=\u001b[0m \u001b[0mto_categorical\u001b[0m\u001b[1;33m(\u001b[0m\u001b[0mtest_y\u001b[0m\u001b[1;33m)\u001b[0m\u001b[1;33m\u001b[0m\u001b[1;33m\u001b[0m\u001b[0m\n",
      "\u001b[1;31mNameError\u001b[0m: name 'to_categorical' is not defined"
     ]
    }
   ],
   "source": [
    "#train_x = np.asarray(train_x).astype('float32')\n",
    "#train_y = np.asarray(train_y).astype('float32')\n",
    "#test_x = np.asarray(test_x).astype('float32')\n",
    "#test_y = np.asarray(test_y).astype('float32')\n",
    "#train_y = to_categorical(train_y)\n",
    "#test_y = to_categorical(test_y) "
   ]
  },
  {
   "cell_type": "code",
   "execution_count": null,
   "id": "a8ed6f6e",
   "metadata": {
    "scrolled": true
   },
   "outputs": [],
   "source": [
    "\n",
    "\n",
    "#with tf.device(\"/gpu:0\"):\n",
    "#    timezero = time()\n",
    "#\n",
    "#    early_stopping_monitor = EarlyStopping(\n",
    "#    monitor='val_loss',\n",
    "#    min_delta=0,\n",
    "#    patience=15,\n",
    "#    verbose=0,\n",
    "#    mode='auto',\n",
    "#    baseline=None,\n",
    "#    restore_best_weights=True\n",
    "#)\n",
    "#    \n",
    "#    model = Sequential()\n",
    "#\n",
    "#    model.add(Dense(1028, input_dim=14, activation='relu'))\n",
    "#\n",
    "#    model.add(Dense(516, activation='relu'))\n",
    "#\n",
    "#    model.add(Dense(32, activation='relu'))\n",
    "#\n",
    "#\n",
    "#    model.add(Dense(2, activation='softmax'))\n",
    "#\n",
    "#    opt = keras.optimizers.Adam(learning_rate=0.001)\n",
    "#    #model.compile(loss=\"mean_squared_error\", optimizer=opt,metrics=tf.keras.metrics.CategoricalAccuracy())\n",
    "#    model.compile(loss=\"CategoricalCrossentropy\", optimizer='adam',metrics=tf.keras.metrics.CategoricalAccuracy())\n",
    "#\n",
    "#    model.fit(train_x, train_y, epochs=10, batch_size=150, validation_split=0.2,callbacks=[early_stopping_monitor])#,callbacks=[tensorboard_callback]\n",
    "#    print(time()-timezero)"
   ]
  },
  {
   "cell_type": "code",
   "execution_count": null,
   "id": "5492ed6e",
   "metadata": {},
   "outputs": [],
   "source": [
    "\n",
    "#model.evaluate(x=test_x,y=test_y)"
   ]
  },
  {
   "cell_type": "code",
   "execution_count": null,
   "id": "054158e8",
   "metadata": {},
   "outputs": [],
   "source": [
    "#pred = model.predict(test_x)"
   ]
  },
  {
   "cell_type": "code",
   "execution_count": null,
   "id": "c7513ca5",
   "metadata": {},
   "outputs": [],
   "source": [
    "#preds = np.argmax(pred, axis=1)"
   ]
  },
  {
   "cell_type": "code",
   "execution_count": null,
   "id": "ee12c23f",
   "metadata": {},
   "outputs": [],
   "source": [
    "#trues = np.argmax(test_y, axis=1, out=None)"
   ]
  },
  {
   "cell_type": "code",
   "execution_count": null,
   "id": "614682c9",
   "metadata": {},
   "outputs": [],
   "source": [
    "#confusion_matrix(trues,preds)"
   ]
  },
  {
   "cell_type": "markdown",
   "id": "d26c6c0f",
   "metadata": {},
   "source": [
    "**SVM**"
   ]
  },
  {
   "cell_type": "code",
   "execution_count": 15,
   "id": "d94222fa",
   "metadata": {},
   "outputs": [
    {
     "ename": "AxisError",
     "evalue": "axis 1 is out of bounds for array of dimension 1",
     "output_type": "error",
     "traceback": [
      "\u001b[1;31m---------------------------------------------------------------------------\u001b[0m",
      "\u001b[1;31mAxisError\u001b[0m                                 Traceback (most recent call last)",
      "\u001b[1;32m~\\AppData\\Local\\Temp/ipykernel_13676/4262396724.py\u001b[0m in \u001b[0;36m<module>\u001b[1;34m\u001b[0m\n\u001b[1;32m----> 1\u001b[1;33m \u001b[0mtrain_y_int\u001b[0m \u001b[1;33m=\u001b[0m \u001b[0mnp\u001b[0m\u001b[1;33m.\u001b[0m\u001b[0margmax\u001b[0m\u001b[1;33m(\u001b[0m\u001b[0mtrain_y\u001b[0m\u001b[1;33m,\u001b[0m \u001b[0maxis\u001b[0m\u001b[1;33m=\u001b[0m\u001b[1;36m1\u001b[0m\u001b[1;33m,\u001b[0m \u001b[0mout\u001b[0m\u001b[1;33m=\u001b[0m\u001b[1;32mNone\u001b[0m\u001b[1;33m)\u001b[0m\u001b[1;33m\u001b[0m\u001b[1;33m\u001b[0m\u001b[0m\n\u001b[0m\u001b[0;32m      2\u001b[0m \u001b[0mtest_y_int\u001b[0m \u001b[1;33m=\u001b[0m \u001b[0mnp\u001b[0m\u001b[1;33m.\u001b[0m\u001b[0margmax\u001b[0m\u001b[1;33m(\u001b[0m\u001b[0mtest_y\u001b[0m\u001b[1;33m,\u001b[0m \u001b[0maxis\u001b[0m\u001b[1;33m=\u001b[0m\u001b[1;36m1\u001b[0m\u001b[1;33m,\u001b[0m \u001b[0mout\u001b[0m\u001b[1;33m=\u001b[0m\u001b[1;32mNone\u001b[0m\u001b[1;33m)\u001b[0m\u001b[1;33m\u001b[0m\u001b[1;33m\u001b[0m\u001b[0m\n",
      "\u001b[1;32m<__array_function__ internals>\u001b[0m in \u001b[0;36margmax\u001b[1;34m(*args, **kwargs)\u001b[0m\n",
      "\u001b[1;32m~\\anaconda3\\lib\\site-packages\\numpy\\core\\fromnumeric.py\u001b[0m in \u001b[0;36margmax\u001b[1;34m(a, axis, out)\u001b[0m\n\u001b[0;32m   1191\u001b[0m \u001b[1;33m\u001b[0m\u001b[0m\n\u001b[0;32m   1192\u001b[0m     \"\"\"\n\u001b[1;32m-> 1193\u001b[1;33m     \u001b[1;32mreturn\u001b[0m \u001b[0m_wrapfunc\u001b[0m\u001b[1;33m(\u001b[0m\u001b[0ma\u001b[0m\u001b[1;33m,\u001b[0m \u001b[1;34m'argmax'\u001b[0m\u001b[1;33m,\u001b[0m \u001b[0maxis\u001b[0m\u001b[1;33m=\u001b[0m\u001b[0maxis\u001b[0m\u001b[1;33m,\u001b[0m \u001b[0mout\u001b[0m\u001b[1;33m=\u001b[0m\u001b[0mout\u001b[0m\u001b[1;33m)\u001b[0m\u001b[1;33m\u001b[0m\u001b[1;33m\u001b[0m\u001b[0m\n\u001b[0m\u001b[0;32m   1194\u001b[0m \u001b[1;33m\u001b[0m\u001b[0m\n\u001b[0;32m   1195\u001b[0m \u001b[1;33m\u001b[0m\u001b[0m\n",
      "\u001b[1;32m~\\anaconda3\\lib\\site-packages\\numpy\\core\\fromnumeric.py\u001b[0m in \u001b[0;36m_wrapfunc\u001b[1;34m(obj, method, *args, **kwds)\u001b[0m\n\u001b[0;32m     56\u001b[0m \u001b[1;33m\u001b[0m\u001b[0m\n\u001b[0;32m     57\u001b[0m     \u001b[1;32mtry\u001b[0m\u001b[1;33m:\u001b[0m\u001b[1;33m\u001b[0m\u001b[1;33m\u001b[0m\u001b[0m\n\u001b[1;32m---> 58\u001b[1;33m         \u001b[1;32mreturn\u001b[0m \u001b[0mbound\u001b[0m\u001b[1;33m(\u001b[0m\u001b[1;33m*\u001b[0m\u001b[0margs\u001b[0m\u001b[1;33m,\u001b[0m \u001b[1;33m**\u001b[0m\u001b[0mkwds\u001b[0m\u001b[1;33m)\u001b[0m\u001b[1;33m\u001b[0m\u001b[1;33m\u001b[0m\u001b[0m\n\u001b[0m\u001b[0;32m     59\u001b[0m     \u001b[1;32mexcept\u001b[0m \u001b[0mTypeError\u001b[0m\u001b[1;33m:\u001b[0m\u001b[1;33m\u001b[0m\u001b[1;33m\u001b[0m\u001b[0m\n\u001b[0;32m     60\u001b[0m         \u001b[1;31m# A TypeError occurs if the object does have such a method in its\u001b[0m\u001b[1;33m\u001b[0m\u001b[1;33m\u001b[0m\u001b[0m\n",
      "\u001b[1;31mAxisError\u001b[0m: axis 1 is out of bounds for array of dimension 1"
     ]
    }
   ],
   "source": [
    "#train_y_int = np.argmax(train_y, axis=1, out=None)\n",
    "#test_y_int = np.argmax(test_y, axis=1, out=None)"
   ]
  },
  {
   "cell_type": "code",
   "execution_count": 16,
   "id": "59bb2076",
   "metadata": {},
   "outputs": [
    {
     "ename": "NameError",
     "evalue": "name 'svm' is not defined",
     "output_type": "error",
     "traceback": [
      "\u001b[1;31m---------------------------------------------------------------------------\u001b[0m",
      "\u001b[1;31mNameError\u001b[0m                                 Traceback (most recent call last)",
      "\u001b[1;32m~\\AppData\\Local\\Temp/ipykernel_13676/2744227376.py\u001b[0m in \u001b[0;36m<module>\u001b[1;34m\u001b[0m\n\u001b[1;32m----> 1\u001b[1;33m \u001b[0mclf\u001b[0m \u001b[1;33m=\u001b[0m \u001b[0msvm\u001b[0m\u001b[1;33m.\u001b[0m\u001b[0mSVC\u001b[0m\u001b[1;33m(\u001b[0m\u001b[0mkernel\u001b[0m\u001b[1;33m=\u001b[0m\u001b[1;34m\"rbf\"\u001b[0m\u001b[1;33m)\u001b[0m\u001b[1;33m\u001b[0m\u001b[1;33m\u001b[0m\u001b[0m\n\u001b[0m\u001b[0;32m      2\u001b[0m \u001b[1;33m\u001b[0m\u001b[0m\n\u001b[0;32m      3\u001b[0m \u001b[1;31m#Train the model using the training sets\u001b[0m\u001b[1;33m\u001b[0m\u001b[1;33m\u001b[0m\u001b[0m\n\u001b[0;32m      4\u001b[0m \u001b[0mclf\u001b[0m\u001b[1;33m.\u001b[0m\u001b[0mfit\u001b[0m\u001b[1;33m(\u001b[0m\u001b[0mtrain_x\u001b[0m\u001b[1;33m,\u001b[0m \u001b[0mtrain_y_int\u001b[0m\u001b[1;33m)\u001b[0m\u001b[1;33m\u001b[0m\u001b[1;33m\u001b[0m\u001b[0m\n\u001b[0;32m      5\u001b[0m \u001b[1;33m\u001b[0m\u001b[0m\n",
      "\u001b[1;31mNameError\u001b[0m: name 'svm' is not defined"
     ]
    }
   ],
   "source": [
    "#clf = svm.SVC(kernel=\"rbf\") \n",
    "#\n",
    "##Train the model using the training sets\n",
    "#clf.fit(train_x, train_y_int)\n",
    "#\n",
    "##Predict the response for test dataset\n",
    "#y_pred = clf.predict(test_x)\n",
    "#\n",
    "#su = 0\n",
    "#for ind,val in enumerate(y_pred):\n",
    "#    if val == test_y_int[ind]:\n",
    "#        su+=1\n",
    "#print(su/len(y_pred))"
   ]
  },
  {
   "cell_type": "markdown",
   "id": "e9454db2",
   "metadata": {},
   "source": [
    "**Decision Tree**"
   ]
  },
  {
   "cell_type": "code",
   "execution_count": 17,
   "id": "ce48192f",
   "metadata": {},
   "outputs": [
    {
     "ename": "ValueError",
     "evalue": "Unknown label type: 'unknown'",
     "output_type": "error",
     "traceback": [
      "\u001b[1;31m---------------------------------------------------------------------------\u001b[0m",
      "\u001b[1;31mValueError\u001b[0m                                Traceback (most recent call last)",
      "\u001b[1;32m~\\AppData\\Local\\Temp/ipykernel_13676/2077940380.py\u001b[0m in \u001b[0;36m<module>\u001b[1;34m\u001b[0m\n\u001b[0;32m      1\u001b[0m \u001b[1;32mfrom\u001b[0m \u001b[0msklearn\u001b[0m \u001b[1;32mimport\u001b[0m \u001b[0mtree\u001b[0m\u001b[1;33m\u001b[0m\u001b[1;33m\u001b[0m\u001b[0m\n\u001b[0;32m      2\u001b[0m \u001b[0mclf\u001b[0m \u001b[1;33m=\u001b[0m \u001b[0mtree\u001b[0m\u001b[1;33m.\u001b[0m\u001b[0mDecisionTreeClassifier\u001b[0m\u001b[1;33m(\u001b[0m\u001b[1;33m)\u001b[0m\u001b[1;33m\u001b[0m\u001b[1;33m\u001b[0m\u001b[0m\n\u001b[1;32m----> 3\u001b[1;33m \u001b[0mclf\u001b[0m \u001b[1;33m=\u001b[0m \u001b[0mclf\u001b[0m\u001b[1;33m.\u001b[0m\u001b[0mfit\u001b[0m\u001b[1;33m(\u001b[0m\u001b[0mtrain_x\u001b[0m\u001b[1;33m,\u001b[0m \u001b[0mtrain_y\u001b[0m\u001b[1;33m)\u001b[0m\u001b[1;33m\u001b[0m\u001b[1;33m\u001b[0m\u001b[0m\n\u001b[0m\u001b[0;32m      4\u001b[0m \u001b[1;33m\u001b[0m\u001b[0m\n\u001b[0;32m      5\u001b[0m \u001b[0my_pred\u001b[0m \u001b[1;33m=\u001b[0m \u001b[0mnp\u001b[0m\u001b[1;33m.\u001b[0m\u001b[0margmax\u001b[0m\u001b[1;33m(\u001b[0m\u001b[0mclf\u001b[0m\u001b[1;33m.\u001b[0m\u001b[0mpredict\u001b[0m\u001b[1;33m(\u001b[0m\u001b[0mtest_x\u001b[0m\u001b[1;33m)\u001b[0m\u001b[1;33m,\u001b[0m \u001b[0maxis\u001b[0m\u001b[1;33m=\u001b[0m\u001b[1;36m1\u001b[0m\u001b[1;33m,\u001b[0m \u001b[0mout\u001b[0m\u001b[1;33m=\u001b[0m\u001b[1;32mNone\u001b[0m\u001b[1;33m)\u001b[0m\u001b[1;33m\u001b[0m\u001b[1;33m\u001b[0m\u001b[0m\n",
      "\u001b[1;32m~\\anaconda3\\lib\\site-packages\\sklearn\\tree\\_classes.py\u001b[0m in \u001b[0;36mfit\u001b[1;34m(self, X, y, sample_weight, check_input, X_idx_sorted)\u001b[0m\n\u001b[0;32m    901\u001b[0m         \"\"\"\n\u001b[0;32m    902\u001b[0m \u001b[1;33m\u001b[0m\u001b[0m\n\u001b[1;32m--> 903\u001b[1;33m         super().fit(\n\u001b[0m\u001b[0;32m    904\u001b[0m             \u001b[0mX\u001b[0m\u001b[1;33m,\u001b[0m \u001b[0my\u001b[0m\u001b[1;33m,\u001b[0m\u001b[1;33m\u001b[0m\u001b[1;33m\u001b[0m\u001b[0m\n\u001b[0;32m    905\u001b[0m             \u001b[0msample_weight\u001b[0m\u001b[1;33m=\u001b[0m\u001b[0msample_weight\u001b[0m\u001b[1;33m,\u001b[0m\u001b[1;33m\u001b[0m\u001b[1;33m\u001b[0m\u001b[0m\n",
      "\u001b[1;32m~\\anaconda3\\lib\\site-packages\\sklearn\\tree\\_classes.py\u001b[0m in \u001b[0;36mfit\u001b[1;34m(self, X, y, sample_weight, check_input, X_idx_sorted)\u001b[0m\n\u001b[0;32m    189\u001b[0m \u001b[1;33m\u001b[0m\u001b[0m\n\u001b[0;32m    190\u001b[0m         \u001b[1;32mif\u001b[0m \u001b[0mis_classification\u001b[0m\u001b[1;33m:\u001b[0m\u001b[1;33m\u001b[0m\u001b[1;33m\u001b[0m\u001b[0m\n\u001b[1;32m--> 191\u001b[1;33m             \u001b[0mcheck_classification_targets\u001b[0m\u001b[1;33m(\u001b[0m\u001b[0my\u001b[0m\u001b[1;33m)\u001b[0m\u001b[1;33m\u001b[0m\u001b[1;33m\u001b[0m\u001b[0m\n\u001b[0m\u001b[0;32m    192\u001b[0m             \u001b[0my\u001b[0m \u001b[1;33m=\u001b[0m \u001b[0mnp\u001b[0m\u001b[1;33m.\u001b[0m\u001b[0mcopy\u001b[0m\u001b[1;33m(\u001b[0m\u001b[0my\u001b[0m\u001b[1;33m)\u001b[0m\u001b[1;33m\u001b[0m\u001b[1;33m\u001b[0m\u001b[0m\n\u001b[0;32m    193\u001b[0m \u001b[1;33m\u001b[0m\u001b[0m\n",
      "\u001b[1;32m~\\anaconda3\\lib\\site-packages\\sklearn\\utils\\multiclass.py\u001b[0m in \u001b[0;36mcheck_classification_targets\u001b[1;34m(y)\u001b[0m\n\u001b[0;32m    181\u001b[0m     if y_type not in ['binary', 'multiclass', 'multiclass-multioutput',\n\u001b[0;32m    182\u001b[0m                       'multilabel-indicator', 'multilabel-sequences']:\n\u001b[1;32m--> 183\u001b[1;33m         \u001b[1;32mraise\u001b[0m \u001b[0mValueError\u001b[0m\u001b[1;33m(\u001b[0m\u001b[1;34m\"Unknown label type: %r\"\u001b[0m \u001b[1;33m%\u001b[0m \u001b[0my_type\u001b[0m\u001b[1;33m)\u001b[0m\u001b[1;33m\u001b[0m\u001b[1;33m\u001b[0m\u001b[0m\n\u001b[0m\u001b[0;32m    184\u001b[0m \u001b[1;33m\u001b[0m\u001b[0m\n\u001b[0;32m    185\u001b[0m \u001b[1;33m\u001b[0m\u001b[0m\n",
      "\u001b[1;31mValueError\u001b[0m: Unknown label type: 'unknown'"
     ]
    }
   ],
   "source": [
    "#from sklearn import tree\n",
    "#clf = tree.DecisionTreeClassifier()\n",
    "#clf = clf.fit(train_x, train_y)\n",
    "#\n",
    "#y_pred = np.argmax(clf.predict(test_x), axis=1, out=None)\n",
    "#\n",
    "#su = 0\n",
    "#for ind,val in enumerate(y_pred):\n",
    "#    if val == test_y_int[ind]:\n",
    "#        su+=1\n",
    "#print(su/len(y_pred))"
   ]
  },
  {
   "cell_type": "code",
   "execution_count": null,
   "id": "34137521",
   "metadata": {},
   "outputs": [],
   "source": []
  },
  {
   "cell_type": "markdown",
   "id": "733a6e48",
   "metadata": {},
   "source": [
    "**Principal Component Analysis**"
   ]
  },
  {
   "cell_type": "code",
   "execution_count": null,
   "id": "bcc972df",
   "metadata": {},
   "outputs": [],
   "source": []
  },
  {
   "cell_type": "markdown",
   "id": "0268b218",
   "metadata": {},
   "source": [
    "**ADABOOST**\n"
   ]
  },
  {
   "cell_type": "code",
   "execution_count": null,
   "id": "6094bfcf-f6b7-4659-b09d-867697d2411a",
   "metadata": {},
   "outputs": [],
   "source": []
  },
  {
   "cell_type": "code",
   "execution_count": null,
   "id": "ce39c28d-ddd8-43fd-b1ae-fb712e6a6779",
   "metadata": {},
   "outputs": [],
   "source": []
  },
  {
   "cell_type": "code",
   "execution_count": 30,
   "id": "35cb495a-6fd4-4458-916c-8851e516b4af",
   "metadata": {},
   "outputs": [
    {
     "data": {
      "text/plain": [
       "80000.0"
      ]
     },
     "execution_count": 30,
     "metadata": {},
     "output_type": "execute_result"
    }
   ],
   "source": []
  },
  {
   "cell_type": "code",
   "execution_count": 31,
   "id": "c3d6e492-b5c3-4a70-bd55-85baa337cdda",
   "metadata": {},
   "outputs": [
    {
     "data": {
      "text/plain": [
       "80000"
      ]
     },
     "execution_count": 31,
     "metadata": {},
     "output_type": "execute_result"
    }
   ],
   "source": []
  },
  {
   "cell_type": "code",
   "execution_count": null,
   "id": "e255ba43-5eb4-46c4-a685-e9609181b3ce",
   "metadata": {
    "tags": []
   },
   "outputs": [],
   "source": []
  },
  {
   "cell_type": "code",
   "execution_count": null,
   "id": "dc5abc2d-0e23-4b07-a4eb-fa826ba93f84",
   "metadata": {},
   "outputs": [],
   "source": []
  }
 ],
 "metadata": {
  "kernelspec": {
   "display_name": "Python 3 (ipykernel)",
   "language": "python",
   "name": "python3"
  },
  "language_info": {
   "codemirror_mode": {
    "name": "ipython",
    "version": 3
   },
   "file_extension": ".py",
   "mimetype": "text/x-python",
   "name": "python",
   "nbconvert_exporter": "python",
   "pygments_lexer": "ipython3",
   "version": "3.9.11"
  }
 },
 "nbformat": 4,
 "nbformat_minor": 5
}
