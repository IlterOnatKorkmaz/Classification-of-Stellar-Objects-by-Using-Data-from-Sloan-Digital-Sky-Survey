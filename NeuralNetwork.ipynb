{
 "cells": [
  {
   "cell_type": "code",
   "execution_count": 1,
   "metadata": {},
   "outputs": [],
   "source": [
    "import numpy as np\n",
    "from ipynb.fs.full.Preprocessing import preprocess"
   ]
  },
  {
   "cell_type": "markdown",
   "metadata": {},
   "source": [
    "# Importing Data"
   ]
  },
  {
   "cell_type": "code",
   "execution_count": 2,
   "metadata": {},
   "outputs": [],
   "source": [
    "train_x, train_y, test_x, test_y = preprocess(100)"
   ]
  },
  {
   "cell_type": "code",
   "execution_count": 3,
   "metadata": {},
   "outputs": [],
   "source": [
    "from sklearn.preprocessing import OneHotEncoder\n",
    "enc = OneHotEncoder().fit(train_y.reshape(-1, 1))\n",
    "train_y=enc.transform(train_y.reshape(-1,1)).toarray()\n",
    "test_y=enc.transform(test_y.reshape(-1,1)).toarray()"
   ]
  },
  {
   "cell_type": "markdown",
   "metadata": {},
   "source": [
    "# The code of the Neural Network"
   ]
  },
  {
   "cell_type": "code",
   "execution_count": 4,
   "metadata": {},
   "outputs": [],
   "source": [
    "class Layer:\n",
    "    def __init__(self, activation_func, size, weights=None,local_fields = None,after_activations=None,bias = 0 ):\n",
    "        self.activation_func = activation_func #softmax, relu\n",
    "        self.size =size #number of neurons  \n",
    "        self.weights = weights\n",
    "        self.local_fields=local_fields\n",
    "class Sequential_Model: \n",
    "    def __init__(self, input_size, learning_rate,batch_size=12,layer_list = list(),weight_matrix = None,loss_type = \"cross_categorical_entropy\"):\n",
    "        self.input_size = input_size\n",
    "        self.layer_list = layer_list #input node, hidden node or output node   \n",
    "        self.learning_rate = learning_rate\n",
    "        self.weight_matrix = weight_matrix\n",
    "        #self.epoch=100\n",
    "        self.batch_size = batch_size\n",
    "        self.loss_type = loss_type\n",
    "        self.local_field_list = list() \n",
    "        self.activation_list = list()\n",
    "        self.error_list=list()\n",
    "    def activation(self,induced_local_field,actv_func):\n",
    "        if actv_func == \"relu\":\n",
    "            return max(induced_local_field,0)\n",
    "        elif actv_func == \"sigmoid\":# or actv_func == \"softmax\":\n",
    "            return 1/(1+np.exp(-induced_local_field))\n",
    "        elif actv_func == \"linear\":\n",
    "            return induced_local_field\n",
    "        elif actv_func == \"softmax\":\n",
    "            return np.exp(induced_local_field)\n",
    "        else:\n",
    "            raise ValueError(\"The activation function was not recognized.\")\n",
    "    def add(self,layer):\n",
    "        self.layer_list.append(layer)\n",
    "    def compile(self):\n",
    "        weight_matrices = list()\n",
    "        for ind in range(len(self.layer_list)-1):# Initializing the weight matrices\n",
    "            weight_matrices.append(np.matrix(\n",
    "                np.random.normal(loc=0.0,\n",
    "                scale=np.sqrt(2/self.layer_list[ind].size),\n",
    "                size=(self.layer_list[ind+1].size,\n",
    "                self.layer_list[ind].size+1)))) #+1 is for bias. so, the rightmost column is the bias weight column.\n",
    "        \n",
    "        self.weight_matrix=weight_matrices\n",
    "    def predict(self,model_input):\n",
    "        actv = np.vectorize(self.activation)\n",
    "        estimation = np.transpose(np.matrix(model_input))#,shape=(np.size(model_input),1))\n",
    "        for ind,matrix in enumerate(self.weight_matrix):\n",
    "            estimation=matrix*(np.concatenate((estimation,np.ones((1,1))),axis=0))\n",
    "            estimation = actv(estimation,self.layer_list[ind+1].activation_func)\n",
    "        if self.layer_list[-1].activation_func==\"softmax\":\n",
    "            return estimation/sum(estimation)\n",
    "    def feed_forward_train(self,model_input):\n",
    "        self.local_field_list = list() #resetting local field list\n",
    "        self.activation_list = list()\n",
    "        actv = np.vectorize(self.activation)\n",
    "        estimation = np.transpose(np.matrix(model_input))#,shape=(np.size(model_input),1))\n",
    "        for ind,matrix in enumerate(self.weight_matrix):\n",
    "            estimation=matrix*(np.concatenate((estimation,np.ones((1,1))),axis=0))\n",
    "            self.local_field_list.append(estimation)\n",
    "            estimation = actv(estimation,self.layer_list[ind+1].activation_func)\n",
    "            self.activation_list.append(estimation)\n",
    "        if self.layer_list[-1].activation_func==\"softmax\":\n",
    "            return estimation/sum(estimation)\n",
    "        \n",
    "\n",
    "        return estimation\n",
    "    def loss_calc(self,est,truth):\n",
    "        \n",
    "        if self.loss_type==\"cross_categorical_entropy\":\n",
    "            return np.sum(np.array(truth * -np.log(est)), axis=-1, keepdims=False)\n",
    "        elif self.loss_type==\"mean_squared_error\":\n",
    "            return (np.norm(est-truth)**2)/len(truth)\n",
    "        else:\n",
    "            raise ValueError(\"Loss type not recognized.\")\n",
    "    def gradient(self,input,activation_func):\n",
    "        if activation_func == \"relu\":\n",
    "            return 1*(input>=0)\n",
    "        elif activation_func == \"linear\":\n",
    "            return 1\n",
    "        return 0\n",
    "    def train(self,X,y,epoch):\n",
    "        \n",
    "        for _ in range(epoch):\n",
    "            for _ in range(len(X)//self.batch_size):\n",
    "                indices = np.random.choice(np.shape(X)[0],self.batch_size,replace=False)\n",
    "                mini_x,mini_y = X[indices,:], y[indices,:]\n",
    "                error=0\n",
    "                for ind,entry in enumerate(mini_x):\n",
    "                    model_out = self.feed_forward_train(entry)\n",
    "                    error += self.loss_calc(model_out,mini_y[ind])\n",
    "                vec_loss = model_out-mini_y.transpose()\n",
    "                #error /= self.batch_size\n",
    "                self.error_list.append(error)\n",
    "                self.backpropagate(error,vec_loss)\n",
    "    def backpropagate(self,error,vec_loss):\n",
    "        list_of_deltas = [vec_loss]\n",
    "        for ind in reversed(range(len(self.layer_list)-1)):\n",
    "            A = self.weight_matrix[ind][:,:-1].transpose()*list_of_deltas[-1]\n",
    "            B = self.gradient(self.local_field_list[ind-1],self.layer_list[ind-1].activation_func)\n",
    "            list_of_deltas.append(np.multiply(A,B))\n",
    "        list_of_deltas.reverse()\n",
    "        for ind in range(len(self.weight_matrix)):\n",
    "            delta = np.matrix(list_of_deltas[ind])\n",
    "            actv = np.matrix(self.activation_list[ind])\n",
    "            update = self.learning_rate*(actv*delta.transpose())\n",
    "            self.weight_matrix[ind][:,:-1] -= update\n",
    "            \n",
    "            \n",
    "            #self.weight_matrix[ind][:,-1] += self.learning_rate*(np.matrix(self.activation_list[ind-1])*np.transpose(list_of_deltas[ind]))\n",
    "            #self.weight_matrix[ind][:,:-1] += self.learning_rate*(np.transpose(np.matrix(self.weight_matrix[:,:-1])))*(np.matrix(self.activation_list[ind-1])*np.transpose(list_of_deltas[ind]))\n"
   ]
  },
  {
   "cell_type": "code",
   "execution_count": 5,
   "metadata": {},
   "outputs": [],
   "source": [
    "model = Sequential_Model(input_size=12,loss_type = \"cross_categorical_entropy\",learning_rate=0.001,batch_size=1)\n",
    "model.add(Layer(activation_func=\"linear\", size=12))\n",
    "model.add(Layer(activation_func=\"relu\",size=8))\n",
    "model.add(Layer(activation_func=\"relu\",size=5))\n",
    "model.add(Layer(activation_func=\"relu\",size=5))\n",
    "model.add(Layer(activation_func=\"softmax\",size=3))\n",
    "model.compile()"
   ]
  },
  {
   "cell_type": "code",
   "execution_count": 6,
   "metadata": {},
   "outputs": [
    {
     "data": {
      "text/plain": [
       "[<matplotlib.lines.Line2D at 0x1dea1e87f40>]"
      ]
     },
     "execution_count": 6,
     "metadata": {},
     "output_type": "execute_result"
    },
    {
     "data": {
      "image/png": "[encoded data removed]",
      "text/plain": [
       "<Figure size 432x288 with 1 Axes>"
      ]
     },
     "metadata": {
      "needs_background": "light"
     },
     "output_type": "display_data"
    }
   ],
   "source": [
    "import matplotlib.pyplot as plt\n",
    "model.train(train_x,train_y,epoch=400)\n",
    "plt.plot(model.error_list)"
   ]
  },
  {
   "cell_type": "code",
   "execution_count": 10,
   "metadata": {},
   "outputs": [
    {
     "name": "stdout",
     "output_type": "stream",
     "text": [
      "50.0\n"
     ]
    }
   ],
   "source": [
    "counter = 0\n",
    "for ind,row in enumerate(test_x):\n",
    "    pos = np.argmax(model.predict(row),axis=0)\n",
    "    if np.argmax(test_y,axis=1).tolist()[ind]==np.array(pos).squeeze():\n",
    "        counter +=1\n",
    "\n",
    "print(counter*100/len(test_y))"
   ]
  },
  {
   "cell_type": "code",
   "execution_count": null,
   "metadata": {},
   "outputs": [],
   "source": []
  }
 ],
 "metadata": {
  "interpreter": {
   "hash": "51db195162f82df05c60f2be968350518dfdf1445cc2d24d16ac47e24cb84d87"
  },
  "kernelspec": {
   "display_name": "Python 3.9.11 64-bit",
   "language": "python",
   "name": "python3"
  },
  "language_info": {
   "codemirror_mode": {
    "name": "ipython",
    "version": 3
   },
   "file_extension": ".py",
   "mimetype": "text/x-python",
   "name": "python",
   "nbconvert_exporter": "python",
   "pygments_lexer": "ipython3",
   "version": "3.9.11"
  },
  "orig_nbformat": 4
 },
 "nbformat": 4,
 "nbformat_minor": 2
}
