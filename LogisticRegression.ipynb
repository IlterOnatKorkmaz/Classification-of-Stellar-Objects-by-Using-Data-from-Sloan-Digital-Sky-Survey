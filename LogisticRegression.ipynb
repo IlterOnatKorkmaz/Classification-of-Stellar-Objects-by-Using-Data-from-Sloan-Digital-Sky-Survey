{
 "cells": [
  {
   "cell_type": "code",
   "execution_count": 2,
   "id": "2edf2fec-54b9-4f62-acf7-dc141693cbb0",
   "metadata": {},
   "outputs": [
    {
     "name": "stdout",
     "output_type": "stream",
     "text": [
      "Requirement already satisfied: ipynb in c:\\users\\mustafa\\anaconda3\\lib\\site-packages (0.5.1)\n",
      "Note: you may need to restart the kernel to use updated packages.\n"
     ]
    }
   ],
   "source": [
    "%pip install ipynb\n",
    "\n",
    "# Run the above line to get the preprocess() function from Preprocessing.ipynb"
   ]
  },
  {
   "cell_type": "code",
   "execution_count": 96,
   "id": "ff5f5eb7-5ee9-4bf2-807c-9e137e044520",
   "metadata": {},
   "outputs": [],
   "source": [
    "import pandas as pd\n",
    "import numpy as np\n",
    "import matplotlib.pyplot as plt \n",
    "\n",
    "from ipynb.fs.full.Preprocessing import preprocess"
   ]
  },
  {
   "cell_type": "code",
   "execution_count": 97,
   "id": "d297fb8d-c53a-437a-894e-c4ccd29bcf22",
   "metadata": {},
   "outputs": [],
   "source": [
    "train_x, train_y, test_x, test_y = preprocess(100000)\n",
    "\n",
    "train_y = train_y.reshape(-1, 1)\n",
    "train_y = train_y.astype('int')\n",
    "\n",
    "train_x = train_x.astype(\"float\")\n",
    "test_x = test_x.astype(\"float\")\n",
    "\n",
    "test_y = test_y.reshape(-1, 1)\n",
    "test_y = test_y.astype('int')"
   ]
  },
  {
   "cell_type": "code",
   "execution_count": 98,
   "id": "b070597d-84a6-4345-9ec7-099574a6a5e3",
   "metadata": {},
   "outputs": [
    {
     "data": {
      "text/plain": [
       "(79641, 12)"
      ]
     },
     "execution_count": 98,
     "metadata": {},
     "output_type": "execute_result"
    }
   ],
   "source": [
    "#We have 12 features, add 1 column (as 1st row) to the train_x data \n",
    "#train_x = np.c_[np.ones( train_x.shape[0] ), train_x]\n",
    "train_x.shape"
   ]
  },
  {
   "cell_type": "code",
   "execution_count": 99,
   "id": "bc71cfb7-959d-4f86-923f-f0d3506b4ff0",
   "metadata": {},
   "outputs": [],
   "source": [
    "def LogisticRegressionTrain(train_x, train_y):\n",
    "    number_of_classes = 3\n",
    "    number_of_features = train_x.shape[1]\n",
    "    number_of_samples = train_x.shape[0]\n",
    "    learning_rate = 0.5\n",
    "    \n",
    "    assert(number_of_features == 12)\n",
    "    \n",
    "    # One-hot encode the classes for training\n",
    "    # E.g., if class array is [0, 0, 1, 0, 2]\n",
    "    # Convert to [[1,0,0], [1,0,0], [0,1,0], [1,0,0],[0,0,1]]\n",
    "    one_hot_encoded = []\n",
    "\n",
    "    for arr in (train_y):\n",
    "        if (arr == [0]):\n",
    "            one_hot_encoded.append([1, 0, 0,])\n",
    "        elif (arr == [1]):\n",
    "            one_hot_encoded.append([0, 1, 0,])\n",
    "        elif (arr == [2]):\n",
    "            one_hot_encoded.append([0, 0, 1,])\n",
    "        else:\n",
    "            print(\"error\")\n",
    "\n",
    "    encoded_train_y = np.array(one_hot_encoded)\n",
    "\n",
    "    # Initialize the weights\n",
    "    weights = np.random.rand(number_of_features, number_of_classes)\n",
    "    bias = np.random.randn(1, number_of_classes)\n",
    "    \n",
    "    iteration_count = 1000\n",
    "    for i in range(1, iteration_count + 1):\n",
    "        # Get the Log-odds (logit)\n",
    "        logits = train_x @ weights + bias\n",
    "\n",
    "        # Calculate the probability of y \n",
    "        # Pr(Y = 0, 1, or 2 | X = train_x)\n",
    "        max_value = np.max(logits, axis =1, keepdims=True)\n",
    "        numerator = np.exp(logits - max_value)\n",
    "        denominator = np.sum(numerator, axis=-1, keepdims=True)\n",
    "        y_probability = numerator / denominator\n",
    "                \n",
    "        # Calculate the gradient vectors \n",
    "        \n",
    "        # Gradient of the weights\n",
    "        dW = (1 / number_of_samples) * (train_x.T @ (y_probability - encoded_train_y))\n",
    "        \n",
    "        # Gradient of the bias\n",
    "        db = (1 / number_of_samples) * np.sum((y_probability - encoded_train_y), axis=0, keepdims=True)\n",
    "        \n",
    "        # We use gradient descent to update the weights and bias because\n",
    "        # the number of samples is quite high. If we had used Newton-Raphson \n",
    "        # method, we would have had to compute the inverse of 100,000x100,000\n",
    "        # matrix which is impossible due to hardware insufficiencies.\n",
    "        weights -= (dW * learning_rate)\n",
    "        bias -= (db * learning_rate)\n",
    "        \n",
    "    return weights, bias\n",
    "        \n",
    "\n",
    "    "
   ]
  },
  {
   "cell_type": "code",
   "execution_count": 100,
   "id": "3236c69e-779e-49c3-80d4-f4d559dd827b",
   "metadata": {},
   "outputs": [],
   "source": [
    "def make_prediction(feature, weights, bias, threshold=0.5):\n",
    "    logits = feature @ weights + bias\n",
    "\n",
    "    max_value = np.max(logits, axis =1, keepdims=True)\n",
    "    numerator = np.exp(logits - max_value)\n",
    "    denominator = np.sum(numerator, axis=-1, keepdims=True)\n",
    "    y_probability = numerator / denominator\n",
    "    \n",
    "    return np.argmax(y_probability, axis=1)"
   ]
  },
  {
   "cell_type": "code",
   "execution_count": 108,
   "id": "208b4b84",
   "metadata": {},
   "outputs": [],
   "source": [
    "import seaborn as sn\n",
    "\n",
    "def confusion_matrix(test_x, test_y, weights, bias):\n",
    "    prediction = make_prediction(test_x, weights, bias)    \n",
    "    confusion_matrix = np.zeros((3, 3), dtype=int)\n",
    "    \n",
    "    accurate_prediction_count = 0\n",
    "    for i, pred in enumerate(prediction):\n",
    "        if test_y[i][0] == 0:\n",
    "            if pred == 0: \n",
    "                confusion_matrix[0][0] += 1\n",
    "            elif pred == 1:\n",
    "                confusion_matrix[0][1] += 1\n",
    "            elif pred == 2:\n",
    "                confusion_matrix[0][2] += 1\n",
    "        \n",
    "        elif test_y[i][0] == 1:\n",
    "            if pred == 0:\n",
    "                confusion_matrix[1][0] += 1\n",
    "            elif pred == 1:\n",
    "                confusion_matrix[1][1] += 1\n",
    "            elif pred == 2:\n",
    "                confusion_matrix[1][2] += 1\n",
    "                \n",
    "        elif test_y[i][0] == 2:\n",
    "            if pred == 0:\n",
    "                confusion_matrix[2][0] += 1\n",
    "            elif pred == 1:\n",
    "                confusion_matrix[2][1] += 1\n",
    "            elif pred == 2:\n",
    "                confusion_matrix[2][2] += 1\n",
    "        \n",
    "        if pred == test_y[i][0]:\n",
    "            accurate_prediction_count += 1\n",
    "            \n",
    "    \n",
    "    s = sn.heatmap(confusion_matrix, annot=True, fmt='g')\n",
    "    s.set(xlabel='Predicted Labels', ylabel='True Labels')\n",
    "    plt.show()\n",
    "    return accurate_prediction_count / test_y.shape[0] * 100 \n",
    "        \n"
   ]
  },
  {
   "cell_type": "code",
   "execution_count": 109,
   "id": "5a0b9376",
   "metadata": {},
   "outputs": [],
   "source": [
    "weights, bias = LogisticRegressionTrain(train_x, train_y)"
   ]
  },
  {
   "cell_type": "code",
   "execution_count": 110,
   "id": "495db9c4",
   "metadata": {},
   "outputs": [
    {
     "data": {
      "image/png": "[encoded data removed]",
      "text/plain": [
       "<Figure size 432x288 with 2 Axes>"
      ]
     },
     "metadata": {
      "needs_background": "light"
     },
     "output_type": "display_data"
    },
    {
     "name": "stdout",
     "output_type": "stream",
     "text": [
      "Accuracy is: 92.65 %\n"
     ]
    }
   ],
   "source": [
    "acc = confusion_matrix(test_x, test_y, weights, bias)\n",
    "\n",
    "print(\"Accuracy is:\", acc, \"%\")"
   ]
  },
  {
   "cell_type": "code",
   "execution_count": null,
   "id": "a05de8b4",
   "metadata": {},
   "outputs": [],
   "source": []
  },
  {
   "cell_type": "code",
   "execution_count": null,
   "id": "ce74ec41",
   "metadata": {},
   "outputs": [],
   "source": []
  },
  {
   "cell_type": "code",
   "execution_count": null,
   "id": "acd28da7",
   "metadata": {},
   "outputs": [],
   "source": []
  }
 ],
 "metadata": {
  "kernelspec": {
   "display_name": "Python 3 (ipykernel)",
   "language": "python",
   "name": "python3"
  },
  "language_info": {
   "codemirror_mode": {
    "name": "ipython",
    "version": 3
   },
   "file_extension": ".py",
   "mimetype": "text/x-python",
   "name": "python",
   "nbconvert_exporter": "python",
   "pygments_lexer": "ipython3",
   "version": "3.9.7"
  }
 },
 "nbformat": 4,
 "nbformat_minor": 5
}
