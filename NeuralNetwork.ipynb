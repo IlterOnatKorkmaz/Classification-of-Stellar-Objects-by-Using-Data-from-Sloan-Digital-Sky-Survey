{
 "cells": [
  {
   "cell_type": "code",
   "execution_count": 1,
   "metadata": {},
   "outputs": [],
   "source": [
    "import numpy as np"
   ]
  },
  {
   "cell_type": "code",
   "execution_count": 2,
   "metadata": {},
   "outputs": [],
   "source": [
    "class Layer:\n",
    "    def __init__(self, activation_func, size, layer_type,weights=None,local_fields = None,after_activations=None ):\n",
    "        self.activation_func = activation_func #softmax, relu\n",
    "        self.size =size #number of neurons\n",
    "        self.layer_type = layer_type #input node, hidden node or output node  \n",
    "        self.weights = weights \n",
    "        self.local_fields=local_fields\n",
    "        self.after_activations = after_activations\n",
    "    def compute_outputs(self,incoming):\n",
    "        self.local_fields = np.sum(incoming,axis=0) #??????\n",
    "        self.after_activations = self.activation_func(self.local_fields)\n",
    "        \n"
   ]
  },
  {
   "cell_type": "code",
   "execution_count": 3,
   "metadata": {},
   "outputs": [
    {
     "ename": "IndentationError",
     "evalue": "expected an indented block (Temp/ipykernel_6156/1923386153.py, line 11)",
     "output_type": "error",
     "traceback": [
      "\u001b[1;36m  File \u001b[1;32m\"C:\\Users\\Onat\\AppData\\Local\\Temp/ipykernel_6156/1923386153.py\"\u001b[1;36m, line \u001b[1;32m11\u001b[0m\n\u001b[1;33m    \u001b[0m\n\u001b[1;37m    ^\u001b[0m\n\u001b[1;31mIndentationError\u001b[0m\u001b[1;31m:\u001b[0m expected an indented block\n"
     ]
    }
   ],
   "source": [
    "class Sequential_Model: \n",
    "    def __init__(self, input_size, learning_rate,layer_list = None):\n",
    "        self.input_size = input_size\n",
    "        self.layer_list = layer_list #input node, hidden node or output node   \n",
    "        self.learning_rate = learning_rate\n",
    "        \n",
    "    def add(self,layer):\n",
    "        self.layer_list.append(layer)\n",
    "    def fit(self,trainx,trainy):\n",
    "        \n",
    "\n"
   ]
  },
  {
   "cell_type": "code",
   "execution_count": null,
   "metadata": {},
   "outputs": [],
   "source": []
  }
 ],
 "metadata": {
  "interpreter": {
   "hash": "51db195162f82df05c60f2be968350518dfdf1445cc2d24d16ac47e24cb84d87"
  },
  "kernelspec": {
   "display_name": "Python 3.9.11 64-bit",
   "language": "python",
   "name": "python3"
  },
  "language_info": {
   "codemirror_mode": {
    "name": "ipython",
    "version": 3
   },
   "file_extension": ".py",
   "mimetype": "text/x-python",
   "name": "python",
   "nbconvert_exporter": "python",
   "pygments_lexer": "ipython3",
   "version": "3.9.11"
  },
  "orig_nbformat": 4
 },
 "nbformat": 4,
 "nbformat_minor": 2
}
